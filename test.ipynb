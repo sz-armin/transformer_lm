{
 "cells": [
  {
   "cell_type": "code",
   "execution_count": 10,
   "metadata": {},
   "outputs": [],
   "source": [
    "from turtle import pos\n",
    "import torch\n",
    "from torch import nn\n",
    "import pytorch_lightning as pl\n",
    "import math\n",
    "import src.models as models"
   ]
  },
  {
   "cell_type": "code",
   "execution_count": 24,
   "metadata": {},
   "outputs": [
    {
     "data": {
      "text/plain": [
       "tensor([[0, 0, 0, 0, 1, 2, 3, 4, 5]])"
      ]
     },
     "execution_count": 24,
     "metadata": {},
     "output_type": "execute_result"
    }
   ],
   "source": [
    "tensor=torch.tensor([[3,3,3,3, 57, 2538, 3853, 42, 462]])\n",
    "mask = tensor.ne(3)\n",
    "torch.cumsum(mask, dim=1)"
   ]
  },
  {
   "cell_type": "code",
   "execution_count": 2,
   "metadata": {},
   "outputs": [],
   "source": [
    "encoder_model = models.EncoderModel.load_from_checkpoint(\"/home/is/armin-sa/Projects/lm/lightning_logs/version_9/checkpoints/epoch=19-step=3680.ckpt\",vocab_size=8000)\n"
   ]
  },
  {
   "cell_type": "code",
   "execution_count": 45,
   "metadata": {},
   "outputs": [
    {
     "name": "stdout",
     "output_type": "stream",
     "text": [
      "tensor(11)\n"
     ]
    }
   ],
   "source": [
    "with torch.no_grad():\n",
    "    tmp = encoder_model(torch.tensor([[3,2,4,3]]))\n",
    "print(tmp.argmax())\n",
    "# print(tmp.softmax(-1)[0][0])"
   ]
  },
  {
   "cell_type": "code",
   "execution_count": 6,
   "metadata": {},
   "outputs": [
    {
     "name": "stdout",
     "output_type": "stream",
     "text": [
      "tensor([42])\n",
      "tensor([[2.5176e-18, 5.0208e-16, 5.4215e-06,  ..., 3.4650e-15, 1.7169e-15,\n",
      "         1.8673e-10]])\n"
     ]
    }
   ],
   "source": [
    "with torch.no_grad():\n",
    "    tmp = encoder_model(torch.tensor([[1, 140, 109, 96, 2030, 57, 2538, 3853, 42, 462]])).softmax(-1) #1 140 109 96 2030 57 2538 3853 42 462 3522 2\n",
    "print(tmp.argmax(-1))\n",
    "print(tmp)"
   ]
  }
 ],
 "metadata": {
  "kernelspec": {
   "display_name": "Python 3.10.6 ('pytorch')",
   "language": "python",
   "name": "python3"
  },
  "language_info": {
   "codemirror_mode": {
    "name": "ipython",
    "version": 3
   },
   "file_extension": ".py",
   "mimetype": "text/x-python",
   "name": "python",
   "nbconvert_exporter": "python",
   "pygments_lexer": "ipython3",
   "version": "3.10.6"
  },
  "orig_nbformat": 4,
  "vscode": {
   "interpreter": {
    "hash": "cdd441ab56e000c5cdd95988c28580fb8a4796548cae7dec334c61097e187fe9"
   }
  }
 },
 "nbformat": 4,
 "nbformat_minor": 2
}
