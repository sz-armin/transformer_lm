{
 "cells": [
  {
   "cell_type": "code",
   "execution_count": 10,
   "metadata": {},
   "outputs": [],
   "source": [
    "import torch, sys, random\n",
    "from torch import nn\n",
    "import pytorch_lightning as pl\n",
    "from pathlib import Path\n",
    "import numpy as np\n",
    "\n",
    "# from multiprocessing import Pool\n",
    "from copy import deepcopy\n",
    "import pytorch_lightning as pl\n",
    "from torch.utils.data import random_split, DataLoader\n",
    "from typing import Optional\n"
   ]
  },
  {
   "cell_type": "markdown",
   "metadata": {},
   "source": [
    "# DataSets and DataLoaders"
   ]
  },
  {
   "cell_type": "code",
   "execution_count": 11,
   "metadata": {},
   "outputs": [],
   "source": [
    "sample_locs = np.load(\"data/sample_locs.npy\")\n"
   ]
  },
  {
   "cell_type": "code",
   "execution_count": 12,
   "metadata": {},
   "outputs": [],
   "source": [
    "class CC100DataSet(torch.utils.data.Dataset):\n",
    "    def __init__(self, file_path, num_workers):\n",
    "        super().__init__()\n",
    "        self.sample_locs = sample_locs\n",
    "        self.file_handles = [open(file_path, \"rb\") for _ in range(num_workers)]\n",
    "        self.file_handles.append(open(file_path, \"rb\"))\n",
    "\n",
    "    def __len__(self):\n",
    "        return len(self.sample_locs)\n",
    "\n",
    "    def __getitem__(self, idx):\n",
    "        worker_info = torch.utils.data.get_worker_info()\n",
    "        if worker_info is None:\n",
    "            worker_id = 0\n",
    "        else:\n",
    "            worker_id = worker_info.id\n",
    "        self.file_handles[worker_id].seek(self.sample_locs[idx])\n",
    "        count = int.from_bytes(\n",
    "            self.file_handles[worker_id].read(2), byteorder=sys.byteorder, signed=False\n",
    "        )\n",
    "        arr = np.frombuffer(\n",
    "            self.file_handles[worker_id].read(count * 4), count=count, dtype=np.int32\n",
    "        )\n",
    "        return arr\n"
   ]
  },
  {
   "cell_type": "code",
   "execution_count": 13,
   "metadata": {},
   "outputs": [],
   "source": [
    "class CC100DataModule(pl.LightningDataModule):\n",
    "    def __init__(\n",
    "        self, dataset: torch.utils.data.Dataset, path: str, num_workers: int = 1\n",
    "    ):\n",
    "        super().__init__()\n",
    "        self.dataset = dataset(path, num_workers)\n",
    "        self.num_workers = num_workers\n",
    "\n",
    "    def prepare_data(self):\n",
    "        pass\n",
    "\n",
    "    def setup(self, stage: Optional[str] = None):\n",
    "        if stage == \"fit\" or stage is None:\n",
    "            train_len = int(len(self.dataset) * 0.8)\n",
    "            train_len = 1000\n",
    "            self.dataset_train, self.dataset_val = random_split(\n",
    "                self.dataset,\n",
    "                [train_len, len(self.dataset) - train_len],\n",
    "                generator=torch.Generator().manual_seed(42),\n",
    "            )\n",
    "\n",
    "        if stage == \"test\" or stage is None:\n",
    "            self.dataset_test = self.dataset\n",
    "\n",
    "        if stage == \"predict\" or stage is None:\n",
    "            self.dataset_predict = self.dataset\n",
    "\n",
    "    def train_dataloader(self):\n",
    "        return DataLoader(\n",
    "            self.dataset_train,\n",
    "            batch_size=2,\n",
    "            collate_fn=self._collate_wrapper,\n",
    "            num_workers=self.num_workers,\n",
    "            shuffle=True,\n",
    "            persistent_workers=True,\n",
    "            prefetch_factor=4,\n",
    "        )\n",
    "\n",
    "    def val_dataloader(self):\n",
    "        return DataLoader(\n",
    "            self.dataset_val,\n",
    "            batch_size=2,\n",
    "            collate_fn=self._collate_wrapper,\n",
    "            num_workers=self.num_workers,\n",
    "            prefetch_factor=4,\n",
    "        )\n",
    "\n",
    "    def test_dataloader(self):\n",
    "        return DataLoader(\n",
    "            self.dataset_test,\n",
    "            batch_size=2,\n",
    "            collate_fn=self._collate_wrapper,\n",
    "            num_workers=self.num_workers,\n",
    "            prefetch_factor=4,\n",
    "        )\n",
    "\n",
    "    def predict_dataloader(self):\n",
    "        return DataLoader(\n",
    "            self.dataset_predict,\n",
    "            batch_size=2,\n",
    "            collate_fn=self._collate_wrapper,\n",
    "            num_workers=self.num_workers,\n",
    "            prefetch_factor=4,\n",
    "        )\n",
    "\n",
    "    # def transfer_batch_to_device(batch, device, dataloader_idx):\n",
    "    #     return [torch.as_tensor(x, device=device) for x in batch]\n",
    "\n",
    "    def on_after_batch_transfer(self, batch, dataloader_idx):\n",
    "        # TODO batch 1\n",
    "        batch = batch.unfold(1, min(1024, int(batch.shape[1] / 2)), 1)\n",
    "        batch = batch[(batch != 3).logical_or(batch != 1).any(axis=2)]\n",
    "        return batch[:, :-1], batch[:, -1]\n",
    "\n",
    "    def _collate_wrapper(self, batch):\n",
    "        # TODO filter large batches\n",
    "        b_max_len = len(max(batch, key=len))\n",
    "        if b_max_len > 9999:\n",
    "            print(b_max_len, max(batch, key=len))\n",
    "        batch = np.array(\n",
    "            [\n",
    "                np.pad(\n",
    "                    x,\n",
    "                    (2 * min(1024, b_max_len) - len(x), 0),\n",
    "                    \"constant\",\n",
    "                    constant_values=(3),\n",
    "                )\n",
    "                for x in batch\n",
    "            ]\n",
    "        )\n",
    "        # faster right_padding: batch = np.column_stack(list(itertools.zip_longest(*l, fillvalue=3)))\n",
    "        # TODO type\n",
    "        return torch.as_tensor(batch, dtype=torch.int32)\n"
   ]
  },
  {
   "cell_type": "code",
   "execution_count": 14,
   "metadata": {},
   "outputs": [],
   "source": [
    "data_module = CC100DataModule(CC100DataSet, \"data/ru_small.bin\", 8)\n"
   ]
  },
  {
   "cell_type": "code",
   "execution_count": 15,
   "metadata": {},
   "outputs": [],
   "source": [
    "class TestDataSet(torch.utils.data.Dataset):\n",
    "    def __init__(self):\n",
    "        super().__init__()\n",
    "        self.data = [\n",
    "            torch.full((5,), random.choice([0, 1, 2, 3, 4, 5]), dtype=torch.int32)\n",
    "            for x in range(10000)\n",
    "        ]\n",
    "\n",
    "    def __len__(self):\n",
    "        return len(self.data)\n",
    "\n",
    "    def __getitem__(self, idx):\n",
    "        return self.data[idx]\n"
   ]
  },
  {
   "cell_type": "code",
   "execution_count": 16,
   "metadata": {},
   "outputs": [],
   "source": [
    "test_ds = TestDataSet()\n",
    "test_dl = DataLoader(test_ds, batch_size=8)\n"
   ]
  },
  {
   "cell_type": "code",
   "execution_count": 17,
   "metadata": {},
   "outputs": [],
   "source": [
    "class LMModel(pl.LightningModule):\n",
    "    def __init__(self, d_emb=512, vocab_size=32000):\n",
    "        super().__init__()\n",
    "        self.d_emb = d_emb\n",
    "        self.vocab_size = vocab_size\n",
    "        self.embedding = nn.Embedding(self.vocab_size, self.d_emb)\n",
    "        self.encoder = nn.Sequential(\n",
    "            nn.Linear(self.d_emb, 2048), nn.Tanh(), nn.Linear(2048, self.d_emb)\n",
    "        )\n",
    "        self.w = nn.Parameter(\n",
    "            torch.zeros(self.embedding.weight.shape), requires_grad=True\n",
    "        )  # why can't we reuse the weights?\n",
    "\n",
    "    def forward(self, x):\n",
    "        res = self.encoder(self.embedding(x)).mean(-2) @ self.w.T\n",
    "\n",
    "        return res\n",
    "\n",
    "    def training_step(self, batch, batch_idx):\n",
    "        # x, y = batch[:,:-1], batch[:,-1]\n",
    "        # y = y.unsqueeze(-1).float()\n",
    "\n",
    "        x, y = batch\n",
    "\n",
    "        y = nn.functional.one_hot(\n",
    "            y.clone().detach().long(), num_classes=self.vocab_size\n",
    "        ).float()\n",
    "        y_hat = self(x)\n",
    "\n",
    "        loss = nn.functional.cross_entropy(y_hat, y, reduction=\"mean\")\n",
    "\n",
    "        self.log(\"train_loss\", loss, logger=True)\n",
    "        self.log(\n",
    "            \"train_loss_epoch\",\n",
    "            loss,\n",
    "            on_step=False,\n",
    "            on_epoch=True,\n",
    "            prog_bar=True,\n",
    "            logger=True,\n",
    "        )\n",
    "\n",
    "        return loss\n",
    "\n",
    "    def configure_optimizers(self):\n",
    "        optimizer = torch.optim.Adam(self.parameters(), lr=1e-3)\n",
    "        return optimizer\n",
    "\n",
    "\n",
    "lm_model = LMModel()\n"
   ]
  },
  {
   "cell_type": "code",
   "execution_count": 18,
   "metadata": {},
   "outputs": [
    {
     "name": "stderr",
     "output_type": "stream",
     "text": [
      "GPU available: True (cuda), used: True\n",
      "TPU available: False, using: 0 TPU cores\n",
      "IPU available: False, using: 0 IPUs\n",
      "HPU available: False, using: 0 HPUs\n",
      "LOCAL_RANK: 0 - CUDA_VISIBLE_DEVICES: [0,1,2]\n",
      "\n",
      "  | Name      | Type       | Params\n",
      "-----------------------------------------\n",
      "0 | embedding | Embedding  | 16.4 M\n",
      "1 | encoder   | Sequential | 2.1 M \n",
      "-----------------------------------------\n",
      "34.9 M    Trainable params\n",
      "0         Non-trainable params\n",
      "34.9 M    Total params\n",
      "139.471   Total estimated model params size (MB)\n"
     ]
    },
    {
     "name": "stdout",
     "output_type": "stream",
     "text": [
      "Epoch 0:  33%|███▎      | 163/500 [00:11<00:23, 14.28it/s, loss=6.6, v_num=5] "
     ]
    }
   ],
   "source": [
    "trainer = pl.Trainer(\n",
    "    limit_train_batches=1000, max_epochs=1, accelerator=\"gpu\", devices=1\n",
    ")\n",
    "trainer.fit(model=lm_model, datamodule=data_module)\n",
    "# trainer.fit(model=autoencoder, train_dataloaders=test_dl)\n"
   ]
  },
  {
   "cell_type": "code",
   "execution_count": null,
   "metadata": {},
   "outputs": [
    {
     "data": {
      "text/plain": [
       "tensor(2)"
      ]
     },
     "execution_count": 19,
     "metadata": {},
     "output_type": "execute_result"
    }
   ],
   "source": [
    "with torch.no_grad():\n",
    "    tmp = lm_model(torch.full((2,), 3))\n",
    "tmp.argmax()\n"
   ]
  }
 ],
 "metadata": {
  "kernelspec": {
   "display_name": "Python 3 (ipykernel)",
   "language": "python",
   "name": "python3"
  },
  "language_info": {
   "codemirror_mode": {
    "name": "ipython",
    "version": 3
   },
   "file_extension": ".py",
   "mimetype": "text/x-python",
   "name": "python",
   "nbconvert_exporter": "python",
   "pygments_lexer": "ipython3",
   "version": "3.10.6"
  },
  "vscode": {
   "interpreter": {
    "hash": "cdd441ab56e000c5cdd95988c28580fb8a4796548cae7dec334c61097e187fe9"
   }
  }
 },
 "nbformat": 4,
 "nbformat_minor": 2
}
