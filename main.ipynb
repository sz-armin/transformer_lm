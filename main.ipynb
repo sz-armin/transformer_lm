{
 "cells": [
  {
   "cell_type": "code",
   "execution_count": 33,
   "metadata": {},
   "outputs": [],
   "source": [
    "import torch, sys, glob, os, math\n",
    "from pathlib import Path\n",
    "import numpy as np\n",
    "from multiprocessing import Pool\n",
    "from copy import deepcopy\n",
    "import pytorch_lightning as pl\n",
    "from torch.utils.data import random_split, DataLoader\n",
    "from typing import Optional\n",
    "import itertools\n"
   ]
  },
  {
   "cell_type": "markdown",
   "metadata": {},
   "source": [
    "# DataSets and DataLoaders"
   ]
  },
  {
   "cell_type": "code",
   "execution_count": 34,
   "metadata": {},
   "outputs": [],
   "source": [
    "sample_locs = np.load(\"data/sample_locs.npy\")\n"
   ]
  },
  {
   "cell_type": "code",
   "execution_count": 35,
   "metadata": {},
   "outputs": [],
   "source": [
    "class CC100DataSet(torch.utils.data.Dataset):\n",
    "    def __init__(self, file_path, num_workers):\n",
    "        super().__init__()\n",
    "        self.sample_locs = sample_locs\n",
    "        self.file_handles = [open(file_path, \"rb\") for _ in range(num_workers)]\n",
    "        self.file_handles.append(open(file_path, \"rb\"))\n",
    "\n",
    "    def __len__(self):\n",
    "        return len(self.sample_locs)\n",
    "\n",
    "    def __getitem__(self, idx):\n",
    "        worker_info = torch.utils.data.get_worker_info()\n",
    "        if worker_info is None:\n",
    "            worker_id = 0\n",
    "        else:\n",
    "            worker_id = worker_info.id\n",
    "        self.file_handles[worker_id].seek(self.sample_locs[idx])\n",
    "        count = int.from_bytes(\n",
    "            self.file_handles[worker_id].read(2), byteorder=sys.byteorder, signed=False\n",
    "        )\n",
    "        arr = np.frombuffer(\n",
    "            self.file_handles[worker_id].read(count * 4), count=count, dtype=np.int32\n",
    "        )\n",
    "        return arr\n"
   ]
  },
  {
   "cell_type": "code",
   "execution_count": 36,
   "metadata": {},
   "outputs": [],
   "source": [
    "class CC100DataModule(pl.LightningDataModule):\n",
    "    def __init__(\n",
    "        self, dataset: torch.utils.data.Dataset, path: str, num_workers: int = 1\n",
    "    ):\n",
    "        super().__init__()\n",
    "        self.dataset = dataset(path, num_workers)\n",
    "        self.num_workers = num_workers\n",
    "\n",
    "    def prepare_data(self):\n",
    "        pass\n",
    "\n",
    "    def setup(self, stage: Optional[str] = None):\n",
    "        if stage == \"fit\" or stage is None:\n",
    "            train_len = int(len(self.dataset) * 0.8)\n",
    "            train_len = 1000\n",
    "            self.dataset_train, self.dataset_val = random_split(\n",
    "                self.dataset,\n",
    "                [train_len, len(self.dataset) - train_len],\n",
    "                generator=torch.Generator().manual_seed(42),\n",
    "            )\n",
    "\n",
    "        if stage == \"test\" or stage is None:\n",
    "            self.dataset_test = self.dataset\n",
    "\n",
    "        if stage == \"predict\" or stage is None:\n",
    "            self.dataset_predict = self.dataset\n",
    "\n",
    "    def train_dataloader(self):\n",
    "        return DataLoader(\n",
    "            self.dataset_train,\n",
    "            batch_size=2,\n",
    "            collate_fn=self._collate_wrapper,\n",
    "            num_workers=self.num_workers,\n",
    "            shuffle=True,\n",
    "            persistent_workers=True,\n",
    "            prefetch_factor=4,\n",
    "        )\n",
    "\n",
    "    def val_dataloader(self):\n",
    "        return DataLoader(\n",
    "            self.dataset_val,\n",
    "            batch_size=2,\n",
    "            collate_fn=self._collate_wrapper,\n",
    "            num_workers=self.num_workers,\n",
    "            prefetch_factor=4,\n",
    "        )\n",
    "\n",
    "    def test_dataloader(self):\n",
    "        return DataLoader(\n",
    "            self.dataset_test,\n",
    "            batch_size=2,\n",
    "            collate_fn=self._collate_wrapper,\n",
    "            num_workers=self.num_workers,\n",
    "            prefetch_factor=4,\n",
    "        )\n",
    "\n",
    "    def predict_dataloader(self):\n",
    "        return DataLoader(\n",
    "            self.dataset_predict,\n",
    "            batch_size=2,\n",
    "            collate_fn=self._collate_wrapper,\n",
    "            num_workers=self.num_workers,\n",
    "            prefetch_factor=4,\n",
    "        )\n",
    "\n",
    "    # def transfer_batch_to_device(batch, device, dataloader_idx):\n",
    "    #     return [torch.as_tensor(x, device=device) for x in batch]\n",
    "\n",
    "    def on_after_batch_transfer(self, batch, dataloader_idx):\n",
    "        # TODO batch 1\n",
    "        batch = batch.unfold(1, min(1024, int(batch.shape[1] / 2)), 1)\n",
    "        batch = batch[(batch != 3).logical_or(batch != 1).any(axis=2)]\n",
    "        return batch[:, :-1], batch[:, -1]\n",
    "\n",
    "    def _collate_wrapper(self, batch):\n",
    "        # TODO filter large batches\n",
    "        b_max_len = len(max(batch, key=len))\n",
    "        if b_max_len > 9999:\n",
    "            print(b_max_len, max(batch, key=len))\n",
    "        batch = np.array(\n",
    "            [\n",
    "                np.pad(\n",
    "                    x,\n",
    "                    (2 * min(1024, b_max_len) - len(x), 0),\n",
    "                    \"constant\",\n",
    "                    constant_values=(3),\n",
    "                )\n",
    "                for x in batch\n",
    "            ]\n",
    "        )\n",
    "        # faster right_padding: batch = np.column_stack(list(itertools.zip_longest(*l, fillvalue=3)))\n",
    "        # TODO type\n",
    "        return torch.as_tensor(batch, dtype=torch.int32)\n"
   ]
  },
  {
   "cell_type": "code",
   "execution_count": 37,
   "metadata": {},
   "outputs": [
    {
     "data": {
      "text/plain": [
       "tensor([[1, 2, 3, 4]], dtype=torch.int32)"
      ]
     },
     "execution_count": 37,
     "metadata": {},
     "output_type": "execute_result"
    }
   ],
   "source": [
    "a = [1, 2, 3, 4]\n",
    "# b = [3,4,5]\n",
    "arr = np.array([a])\n",
    "ten = torch.as_tensor(arr, dtype=torch.int32)\n",
    "ten\n"
   ]
  },
  {
   "cell_type": "code",
   "execution_count": 38,
   "metadata": {},
   "outputs": [
    {
     "data": {
      "text/plain": [
       "tensor([[[1, 2],\n",
       "         [2, 3],\n",
       "         [3, 4]]], dtype=torch.int32)"
      ]
     },
     "execution_count": 38,
     "metadata": {},
     "output_type": "execute_result"
    }
   ],
   "source": [
    "ten.unfold(1, 2, 1)\n"
   ]
  },
  {
   "cell_type": "code",
   "execution_count": 39,
   "metadata": {},
   "outputs": [],
   "source": [
    "data_module = CC100DataModule(CC100DataSet, \"data/ru_small.bin\", 8)\n",
    "# data_module.prepare_data()\n",
    "# data_module.setup()\n",
    "# data_loader = data_module.train_dataloader()\n"
   ]
  },
  {
   "cell_type": "code",
   "execution_count": 40,
   "metadata": {},
   "outputs": [],
   "source": [
    "# x = next(iter(data_loader))\n",
    "# x\n",
    "# c = 0\n",
    "# for _ in data_loader:\n",
    "#     list(map(lambda x: torch.Tensor(x), _))\n",
    "#     c += 1\n",
    "# c\n"
   ]
  },
  {
   "cell_type": "code",
   "execution_count": 41,
   "metadata": {},
   "outputs": [],
   "source": [
    "# x.shape\n"
   ]
  },
  {
   "cell_type": "code",
   "execution_count": 42,
   "metadata": {},
   "outputs": [],
   "source": [
    "# x[0].unfold(0,194,1)\n"
   ]
  },
  {
   "cell_type": "code",
   "execution_count": 43,
   "metadata": {},
   "outputs": [],
   "source": [
    "# pad+2\n",
    "# len(x)/2\n",
    "# y = x.unfold(1, min(1024, int(x.shape[1] / 2)), 1)\n",
    "# print(y.shape)\n",
    "# print((y != 3).logical_or(y != 1).any(axis=2).shape)\n",
    "# y = y[(y != 3).logical_and(y != 1).any(axis=2)]\n",
    "# y=y.reshape(-1,194)\n",
    "# y[(y!=3).any(axis=1)].shape\n",
    "# y\n",
    "# y.view(y.size(0), -1)\n"
   ]
  },
  {
   "cell_type": "code",
   "execution_count": 44,
   "metadata": {},
   "outputs": [],
   "source": [
    "import random\n",
    "class TestDataSet(torch.utils.data.Dataset):\n",
    "    def __init__(self):\n",
    "        super().__init__()\n",
    "        self.data = [torch.full((5,), random.choice([0,1,2,3,4,5]), dtype=torch.int32) for x in range(10000)]\n",
    "\n",
    "    def __len__(self):\n",
    "        return len(self.data )\n",
    "\n",
    "    def __getitem__(self, idx):\n",
    "        return self.data[idx]\n",
    "\n",
    "    # def _collate_wrapper(self, batch):\n",
    "    #     return batch[:,:-1], batch[:,-1]\n",
    "\n",
    "test_ds = TestDataSet()\n",
    "test_dl = DataLoader(test_ds, batch_size=8)"
   ]
  },
  {
   "cell_type": "code",
   "execution_count": 49,
   "metadata": {},
   "outputs": [],
   "source": [
    "import os\n",
    "from torch import optim, nn\n",
    "import pytorch_lightning as pl\n",
    "\n",
    "# define any number of nn.Modules (or use your current ones)\n",
    "\n",
    "# embedding = \n",
    "# decoder = nn.Sequential(nn.Linear(3, 64), nn.ReLU(), nn.Linear(64, 28 * 28))\n",
    "\n",
    "# define the LightningModule\n",
    "class LitAutoEncoder(pl.LightningModule):\n",
    "    def __init__(self, d_emb = 512, vocab_size = 32000):\n",
    "        super().__init__()\n",
    "        self.d_emb=d_emb\n",
    "        self.vocab_size=vocab_size\n",
    "        self.embedding = nn.Embedding(self.vocab_size, self.d_emb)\n",
    "        self.encoder = nn.Sequential(nn.Linear(self.d_emb, 2048), nn.Tanh(), nn.Linear(2048, self.d_emb))\n",
    "        self.w = nn.Parameter(torch.zeros(self.embedding.weight.shape), requires_grad=True) #why\n",
    "        # self.encoder = nn.Sequential(nn.Linear(4, 128), nn.Tanh(), nn.Linear(128, 1))\n",
    "\n",
    "    def forward(self, x):\n",
    "        res = self.encoder(self.embedding(x)).mean(-2) @ self.w.T\n",
    "        # res = self.encoder(self.embedding(x)).mean(-2) @ self.embedding.weight.T\n",
    "        # res = self.encoder(x)\n",
    "        return res\n",
    "        # return res.softmax(0)\n",
    "\n",
    "    def training_step(self, batch, batch_idx):\n",
    "        # x, y = batch[:,:-1], batch[:,-1]\n",
    "        # y = y.unsqueeze(-1).float()\n",
    "        x, y = batch\n",
    "        # self.y_o = y\n",
    "        y = nn.functional.one_hot(y.clone().detach().long(), num_classes=self.vocab_size).float()\n",
    "        y_hat = self(x)\n",
    "        # y_hat = y_hat \n",
    "        # y_hat = torch.nn.functional.softmax(y_hat, dim=0)\n",
    "        # self.x = x\n",
    "        # self.y = y\n",
    "        # self.hat = y_hat\n",
    "        # print(y, y_hat)\n",
    "        # loss = nn.functional.cross_entropy(y, y_hat,reduction='sum')\n",
    "        loss = nn.functional.mse_loss(y, y_hat,reduction='sum')\n",
    "        # print((loss))\n",
    "        # print((y_hat - y).sum())\n",
    "\n",
    "        self.log(\"train_loss\", loss, logger=True)\n",
    "        self.log(\"train_loss_epoch\", loss, on_step=False, on_epoch=True, prog_bar=True, logger=True)\n",
    "\n",
    "        return loss\n",
    "\n",
    "    def configure_optimizers(self):\n",
    "        optimizer = torch.optim.Adam(self.parameters(), lr=0.0001)\n",
    "        return optimizer\n",
    "\n",
    "\n",
    "# init the autoencoder\n",
    "autoencoder = LitAutoEncoder()\n",
    "# e1=autoencoder.embedding.weight.clone()\n",
    "# p1=autoencoder.named_parameters()"
   ]
  },
  {
   "cell_type": "code",
   "execution_count": 50,
   "metadata": {},
   "outputs": [],
   "source": [
    "# list(p1)"
   ]
  },
  {
   "cell_type": "code",
   "execution_count": 51,
   "metadata": {},
   "outputs": [],
   "source": [
    "# a= torch.arange(24).reshape(2,3,4)\n",
    "# print(a)\n",
    "# a.sum(-2)\n",
    "# nn.functional.one_hot(torch.tensor([32000]),num_classes=5).float()\n"
   ]
  },
  {
   "cell_type": "code",
   "execution_count": 52,
   "metadata": {},
   "outputs": [
    {
     "name": "stderr",
     "output_type": "stream",
     "text": [
      "GPU available: True (cuda), used: True\n",
      "TPU available: False, using: 0 TPU cores\n",
      "IPU available: False, using: 0 IPUs\n",
      "HPU available: False, using: 0 HPUs\n",
      "/home/is/armin-sa/miniconda3/envs/pytorch/lib/python3.10/site-packages/pytorch_lightning/trainer/configuration_validator.py:115: UserWarning: You passed in a `val_dataloader` but have no `validation_step`. Skipping val loop.\n",
      "  rank_zero_warn(\"You passed in a `val_dataloader` but have no `validation_step`. Skipping val loop.\")\n",
      "LOCAL_RANK: 0 - CUDA_VISIBLE_DEVICES: [0,1,2]\n",
      "\n",
      "  | Name      | Type       | Params\n",
      "-----------------------------------------\n",
      "0 | embedding | Embedding  | 16.4 M\n",
      "1 | encoder   | Sequential | 2.1 M \n",
      "-----------------------------------------\n",
      "34.9 M    Trainable params\n",
      "0         Non-trainable params\n",
      "34.9 M    Total params\n",
      "139.471   Total estimated model params size (MB)\n"
     ]
    },
    {
     "name": "stdout",
     "output_type": "stream",
     "text": [
      "Epoch 0:  14%|█▍        | 71/500 [00:25<02:31,  2.84it/s, loss=463, v_num=7]\n"
     ]
    },
    {
     "name": "stderr",
     "output_type": "stream",
     "text": [
      "Exception ignored in: <function _MultiProcessingDataLoaderIter.__del__ at 0x7f7e1295f910>\n",
      "Traceback (most recent call last):\n",
      "  File \"/home/is/armin-sa/miniconda3/envs/pytorch/lib/python3.10/site-packages/torch/utils/data/dataloader.py\", line 1481, in __del__\n",
      "    self._shutdown_workers()\n",
      "  File \"/home/is/armin-sa/miniconda3/envs/pytorch/lib/python3.10/site-packages/torch/utils/data/dataloader.py\", line 1445, in _shutdown_workers\n",
      "    w.join(timeout=_utils.MP_STATUS_CHECK_INTERVAL)\n",
      "  File \"/home/is/armin-sa/miniconda3/envs/pytorch/lib/python3.10/multiprocessing/process.py\", line 149, in join\n",
      "    res = self._popen.wait(timeout)\n",
      "  File \"/home/is/armin-sa/miniconda3/envs/pytorch/lib/python3.10/multiprocessing/popen_fork.py\", line 40, in wait\n",
      "    if not wait([self.sentinel], timeout):\n",
      "  File \"/home/is/armin-sa/miniconda3/envs/pytorch/lib/python3.10/multiprocessing/connection.py\", line 936, in wait\n",
      "    ready = selector.select(timeout)\n",
      "  File \"/home/is/armin-sa/miniconda3/envs/pytorch/lib/python3.10/selectors.py\", line 416, in select\n",
      "    fd_event_list = self._selector.poll(timeout)\n",
      "KeyboardInterrupt: \n"
     ]
    },
    {
     "name": "stdout",
     "output_type": "stream",
     "text": [
      "Epoch 0:  14%|█▍        | 71/500 [00:45<04:36,  1.55it/s, loss=463, v_num=7]\n"
     ]
    },
    {
     "name": "stderr",
     "output_type": "stream",
     "text": [
      "Exception ignored in: <function _MultiProcessingDataLoaderIter.__del__ at 0x7f7e1295f910>\n",
      "Traceback (most recent call last):\n",
      "  File \"/home/is/armin-sa/miniconda3/envs/pytorch/lib/python3.10/site-packages/torch/utils/data/dataloader.py\", line 1481, in __del__\n",
      "    self._shutdown_workers()\n",
      "  File \"/home/is/armin-sa/miniconda3/envs/pytorch/lib/python3.10/site-packages/torch/utils/data/dataloader.py\", line 1464, in _shutdown_workers\n",
      "    if w.is_alive():\n",
      "  File \"/home/is/armin-sa/miniconda3/envs/pytorch/lib/python3.10/multiprocessing/process.py\", line 160, in is_alive\n",
      "    assert self._parent_pid == os.getpid(), 'can only test a child process'\n",
      "AssertionError: can only test a child process\n"
     ]
    },
    {
     "name": "stdout",
     "output_type": "stream",
     "text": [
      "Epoch 0:  14%|█▍        | 71/500 [00:48<04:55,  1.45it/s, loss=463, v_num=7] \n"
     ]
    },
    {
     "name": "stderr",
     "output_type": "stream",
     "text": [
      "Exception ignored in: <function _MultiProcessingDataLoaderIter.__del__ at 0x7f7e1295f910>\n",
      "Traceback (most recent call last):\n",
      "  File \"/home/is/armin-sa/miniconda3/envs/pytorch/lib/python3.10/site-packages/torch/utils/data/dataloader.py\", line 1481, in __del__\n",
      "    self._shutdown_workers()\n",
      "  File \"/home/is/armin-sa/miniconda3/envs/pytorch/lib/python3.10/site-packages/torch/utils/data/dataloader.py\", line 1464, in _shutdown_workers\n",
      "    if w.is_alive():\n",
      "  File \"/home/is/armin-sa/miniconda3/envs/pytorch/lib/python3.10/multiprocessing/process.py\", line 160, in is_alive\n",
      "    assert self._parent_pid == os.getpid(), 'can only test a child process'\n",
      "AssertionError: can only test a child process\n"
     ]
    },
    {
     "name": "stdout",
     "output_type": "stream",
     "text": [
      "Epoch 0:  14%|█▍        | 71/500 [00:53<05:24,  1.32it/s, loss=463, v_num=7]]\n",
      "Epoch 0:  25%|██▌       | 126/500 [00:28<01:25,  4.36it/s, loss=109, v_num=8]"
     ]
    },
    {
     "name": "stderr",
     "output_type": "stream",
     "text": [
      "Exception ignored in: <function _MultiProcessingDataLoaderIter.__del__ at 0x7f7e1295f910>\n",
      "Traceback (most recent call last):\n",
      "  File \"/home/is/armin-sa/miniconda3/envs/pytorch/lib/python3.10/site-packages/torch/utils/data/dataloader.py\", line 1481, in __del__\n",
      "    self._shutdown_workers()\n"
     ]
    },
    {
     "name": "stdout",
     "output_type": "stream",
     "text": [
      "Epoch 0:  25%|██▌       | 127/500 [00:28<01:24,  4.39it/s, loss=109, v_num=8]"
     ]
    },
    {
     "name": "stderr",
     "output_type": "stream",
     "text": [
      "  File \"/home/is/armin-sa/miniconda3/envs/pytorch/lib/python3.10/site-packages/torch/utils/data/dataloader.py\", line 1464, in _shutdown_workers\n",
      "    if w.is_alive():\n",
      "  File \"/home/is/armin-sa/miniconda3/envs/pytorch/lib/python3.10/multiprocessing/process.py\", line 160, in is_alive\n",
      "    assert self._parent_pid == os.getpid(), 'can only test a child process'\n",
      "AssertionError: can only test a child process\n"
     ]
    },
    {
     "name": "stdout",
     "output_type": "stream",
     "text": [
      "Epoch 0:  36%|███▌      | 181/500 [00:32<00:57,  5.58it/s, loss=95.8, v_num=8]"
     ]
    }
   ],
   "source": [
    "trainer = pl.Trainer(limit_train_batches=1000, max_epochs=1, accelerator=\"gpu\", devices=1)\n",
    "trainer.fit(model=autoencoder, datamodule=data_module)\n",
    "# trainer.fit(model=autoencoder, train_dataloaders=test_dl)\n"
   ]
  },
  {
   "cell_type": "code",
   "execution_count": null,
   "metadata": {},
   "outputs": [
    {
     "data": {
      "text/plain": [
       "tensor(3)"
      ]
     },
     "execution_count": 17,
     "metadata": {},
     "output_type": "execute_result"
    }
   ],
   "source": [
    "with torch.no_grad():\n",
    "    b=autoencoder(torch.full((2,),3))\n",
    "b.argmax()"
   ]
  },
  {
   "cell_type": "code",
   "execution_count": null,
   "metadata": {},
   "outputs": [
    {
     "ename": "NameError",
     "evalue": "name 'e1' is not defined",
     "output_type": "error",
     "traceback": [
      "\u001b[0;31m---------------------------------------------------------------------------\u001b[0m",
      "\u001b[0;31mNameError\u001b[0m                                 Traceback (most recent call last)",
      "\u001b[1;32m/home/is/armin-sa/Projects/lm/main.ipynb Cell 19\u001b[0m in \u001b[0;36m<cell line: 1>\u001b[0;34m()\u001b[0m\n\u001b[0;32m----> <a href='vscode-notebook-cell://ssh-remote%2Belm14/home/is/armin-sa/Projects/lm/main.ipynb#X23sdnNjb2RlLXJlbW90ZQ%3D%3D?line=0'>1</a>\u001b[0m (autoencoder\u001b[39m.\u001b[39membedding\u001b[39m.\u001b[39mweight \u001b[39m==\u001b[39m e1)\u001b[39m.\u001b[39mall()\n",
      "\u001b[0;31mNameError\u001b[0m: name 'e1' is not defined"
     ]
    }
   ],
   "source": [
    "(autoencoder.embedding.weight == e1).all()"
   ]
  },
  {
   "cell_type": "code",
   "execution_count": null,
   "metadata": {},
   "outputs": [
    {
     "data": {
      "text/plain": [
       "tensor(0, device='cuda:0')"
      ]
     },
     "execution_count": 26,
     "metadata": {},
     "output_type": "execute_result"
    }
   ],
   "source": [
    "autoencoder.y[1]"
   ]
  },
  {
   "cell_type": "code",
   "execution_count": null,
   "metadata": {},
   "outputs": [
    {
     "data": {
      "text/plain": [
       "tensor(0, device='cuda:0')"
      ]
     },
     "execution_count": 27,
     "metadata": {},
     "output_type": "execute_result"
    }
   ],
   "source": [
    "autoencoder.y_o[1]"
   ]
  },
  {
   "cell_type": "code",
   "execution_count": null,
   "metadata": {},
   "outputs": [
    {
     "data": {
      "text/plain": [
       "tensor([-0.4807], device='cuda:0', grad_fn=<SelectBackward0>)"
      ]
     },
     "execution_count": 28,
     "metadata": {},
     "output_type": "execute_result"
    }
   ],
   "source": [
    "autoencoder.hat[1]"
   ]
  },
  {
   "cell_type": "code",
   "execution_count": null,
   "metadata": {},
   "outputs": [
    {
     "data": {
      "text/plain": [
       "tensor([1., 1., 1., 1., 1.], device='cuda:0')"
      ]
     },
     "execution_count": 29,
     "metadata": {},
     "output_type": "execute_result"
    }
   ],
   "source": [
    "autoencoder.x[1]"
   ]
  }
 ],
 "metadata": {
  "kernelspec": {
   "display_name": "Python 3 (ipykernel)",
   "language": "python",
   "name": "python3"
  },
  "language_info": {
   "codemirror_mode": {
    "name": "ipython",
    "version": 3
   },
   "file_extension": ".py",
   "mimetype": "text/x-python",
   "name": "python",
   "nbconvert_exporter": "python",
   "pygments_lexer": "ipython3",
   "version": "3.10.6"
  },
  "vscode": {
   "interpreter": {
    "hash": "cdd441ab56e000c5cdd95988c28580fb8a4796548cae7dec334c61097e187fe9"
   }
  }
 },
 "nbformat": 4,
 "nbformat_minor": 2
}
