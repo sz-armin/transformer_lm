{
 "cells": [
  {
   "cell_type": "code",
   "execution_count": 3,
   "metadata": {},
   "outputs": [
    {
     "name": "stderr",
     "output_type": "stream",
     "text": [
      "/home/is/armin-sa/miniconda3/envs/pytorch/lib/python3.10/site-packages/tqdm/auto.py:22: TqdmWarning: IProgress not found. Please update jupyter and ipywidgets. See https://ipywidgets.readthedocs.io/en/stable/user_install.html\n",
      "  from .autonotebook import tqdm as notebook_tqdm\n"
     ]
    }
   ],
   "source": [
    "import torch, sys, glob, os, math\n",
    "from pathlib import Path\n",
    "import numpy as np\n",
    "from multiprocessing import Pool\n",
    "from copy import deepcopy\n",
    "import pytorch_lightning as pl\n",
    "from torch.utils.data import random_split, DataLoader\n",
    "from typing import Optional\n",
    "import itertools\n"
   ]
  },
  {
   "cell_type": "markdown",
   "metadata": {},
   "source": [
    "# DataSets and DataLoaders"
   ]
  },
  {
   "cell_type": "code",
   "execution_count": 4,
   "metadata": {},
   "outputs": [],
   "source": [
    "sample_locs = np.load(\"data/sample_locs.npy\")\n"
   ]
  },
  {
   "cell_type": "code",
   "execution_count": 5,
   "metadata": {},
   "outputs": [],
   "source": [
    "class CC100DataSet(torch.utils.data.Dataset):\n",
    "    def __init__(self, file_path, num_workers):\n",
    "        super().__init__()\n",
    "        self.sample_locs = sample_locs\n",
    "        self.file_handles = [open(file_path, \"rb\") for _ in range(num_workers)]\n",
    "        self.file_handles.append(open(file_path, \"rb\"))\n",
    "\n",
    "    def __len__(self):\n",
    "        return len(self.sample_locs)\n",
    "\n",
    "    def __getitem__(self, idx):\n",
    "        worker_info = torch.utils.data.get_worker_info()\n",
    "        if worker_info is None:\n",
    "            worker_id = 0\n",
    "        else:\n",
    "            worker_id = worker_info.id\n",
    "        self.file_handles[worker_id].seek(self.sample_locs[idx])\n",
    "        count = int.from_bytes(\n",
    "            self.file_handles[worker_id].read(2), byteorder=sys.byteorder, signed=False\n",
    "        )\n",
    "        arr = np.frombuffer(\n",
    "            self.file_handles[worker_id].read(count * 4), count=count, dtype=np.int32\n",
    "        )\n",
    "        return arr\n"
   ]
  },
  {
   "cell_type": "code",
   "execution_count": 6,
   "metadata": {},
   "outputs": [],
   "source": [
    "class CC100DataModule(pl.LightningDataModule):\n",
    "    def __init__(\n",
    "        self, dataset: torch.utils.data.Dataset, path: str, num_workers: int = 1\n",
    "    ):\n",
    "        super().__init__()\n",
    "        self.dataset = dataset(path, num_workers)\n",
    "        self.num_workers = num_workers\n",
    "\n",
    "    def prepare_data(self):\n",
    "        pass\n",
    "\n",
    "    def setup(self, stage: Optional[str] = None):\n",
    "        if stage == \"fit\" or stage is None:\n",
    "            train_len = int(len(self.dataset) * 0.8)\n",
    "            self.dataset_train, self.dataset_val = random_split(\n",
    "                self.dataset,\n",
    "                [train_len, len(self.dataset) - train_len],\n",
    "                generator=torch.Generator().manual_seed(42),\n",
    "            )\n",
    "\n",
    "        if stage == \"test\" or stage is None:\n",
    "            self.dataset_test = self.dataset\n",
    "\n",
    "        if stage == \"predict\" or stage is None:\n",
    "            self.dataset_predict = self.dataset\n",
    "\n",
    "    def train_dataloader(self):\n",
    "        return DataLoader(\n",
    "            self.dataset_train,\n",
    "            batch_size=32,\n",
    "            collate_fn=self._collate_wrapper,\n",
    "            num_workers=self.num_workers,\n",
    "            shuffle=True,\n",
    "            # prefetch_factor=4,\n",
    "        )\n",
    "\n",
    "    def val_dataloader(self):\n",
    "        return DataLoader(\n",
    "            self.dataset_val,\n",
    "            batch_size=32,\n",
    "            collate_fn=self._collate_wrapper,\n",
    "            num_workers=self.num_workers,\n",
    "            # prefetch_factor=4,\n",
    "        )\n",
    "\n",
    "    def test_dataloader(self):\n",
    "        return DataLoader(\n",
    "            self.dataset_test,\n",
    "            batch_size=32,\n",
    "            collate_fn=self._collate_wrapper,\n",
    "            num_workers=self.num_workers,\n",
    "            # prefetch_factor=4,\n",
    "        )\n",
    "\n",
    "    def predict_dataloader(self):\n",
    "        return DataLoader(\n",
    "            self.dataset_predict,\n",
    "            batch_size=32,\n",
    "            collate_fn=self._collate_wrapper,\n",
    "            num_workers=self.num_workers,\n",
    "            # prefetch_factor=4,\n",
    "        )\n",
    "\n",
    "    # def transfer_batch_to_device(batch, device, dataloader_idx):\n",
    "    #     return [torch.as_tensor(x, device=device) for x in batch]\n",
    "\n",
    "    def on_after_batch_transfer(self, batch, dataloader_idx):\n",
    "        batch = batch.unfold(1, min(1024, int(batch.shape[1] / 2)), 1)\n",
    "        batch = batch[(batch != 3).logical_or(batch != 1).any(axis=2)]\n",
    "        return batch[:, :-1], batch[:, -1]\n",
    "\n",
    "    def _collate_wrapper(self, batch):\n",
    "        # TODO filter large batches\n",
    "        b_max_len = len(max(batch, key=len))\n",
    "        if b_max_len > 9999:\n",
    "            print(b_max_len, max(batch, key=len))\n",
    "        batch = np.array(\n",
    "            [\n",
    "                np.pad(\n",
    "                    x,\n",
    "                    (2 * min(1024, b_max_len) - len(x), 0),\n",
    "                    \"constant\",\n",
    "                    constant_values=(3),\n",
    "                )\n",
    "                for x in batch\n",
    "            ]\n",
    "        )\n",
    "        # faster right_padding: batch = np.column_stack(list(itertools.zip_longest(*l, fillvalue=3)))\n",
    "        # TODO type\n",
    "        return torch.as_tensor(batch, dtype=torch.int32)\n"
   ]
  },
  {
   "cell_type": "code",
   "execution_count": 7,
   "metadata": {},
   "outputs": [
    {
     "data": {
      "text/plain": [
       "tensor([[1, 2, 3, 4]], dtype=torch.int32)"
      ]
     },
     "execution_count": 7,
     "metadata": {},
     "output_type": "execute_result"
    }
   ],
   "source": [
    "a = [1, 2, 3, 4]\n",
    "# b = [3,4,5]\n",
    "arr = np.array([a])\n",
    "ten = torch.as_tensor(arr, dtype=torch.int32)\n",
    "ten\n"
   ]
  },
  {
   "cell_type": "code",
   "execution_count": 8,
   "metadata": {},
   "outputs": [
    {
     "data": {
      "text/plain": [
       "tensor([[[1, 2],\n",
       "         [2, 3],\n",
       "         [3, 4]]], dtype=torch.int32)"
      ]
     },
     "execution_count": 8,
     "metadata": {},
     "output_type": "execute_result"
    }
   ],
   "source": [
    "ten.unfold(1, 2, 1)\n"
   ]
  },
  {
   "cell_type": "code",
   "execution_count": 9,
   "metadata": {},
   "outputs": [],
   "source": [
    "data_module = CC100DataModule(CC100DataSet, \"data/ru_small.bin\", 0)\n",
    "data_module.prepare_data()\n",
    "data_module.setup()\n",
    "data_loader = data_module.train_dataloader()\n"
   ]
  },
  {
   "cell_type": "code",
   "execution_count": 10,
   "metadata": {},
   "outputs": [],
   "source": [
    "x = next(iter(data_loader))\n",
    "# x\n",
    "# c = 0\n",
    "# for _ in data_loader:\n",
    "#     list(map(lambda x: torch.Tensor(x), _))\n",
    "#     c += 1\n",
    "# c\n"
   ]
  },
  {
   "cell_type": "code",
   "execution_count": 11,
   "metadata": {},
   "outputs": [
    {
     "data": {
      "text/plain": [
       "torch.Size([32, 242])"
      ]
     },
     "execution_count": 11,
     "metadata": {},
     "output_type": "execute_result"
    }
   ],
   "source": [
    "x.shape\n"
   ]
  },
  {
   "cell_type": "code",
   "execution_count": 12,
   "metadata": {},
   "outputs": [],
   "source": [
    "# x[0].unfold(0,194,1)\n"
   ]
  },
  {
   "cell_type": "code",
   "execution_count": 13,
   "metadata": {},
   "outputs": [
    {
     "name": "stdout",
     "output_type": "stream",
     "text": [
      "torch.Size([32, 122, 121])\n",
      "torch.Size([32, 122])\n"
     ]
    },
    {
     "data": {
      "text/plain": [
       "tensor([[    3,     3,     3,  ...,     3,     1,   117],\n",
       "        [    3,     3,     3,  ...,     1,   117,    89],\n",
       "        [    3,     3,     3,  ...,   117,    89, 11074],\n",
       "        ...,\n",
       "        [    3,     3,     3,  ...,   930,    53, 28420],\n",
       "        [    3,     3,     3,  ...,    53, 28420,     5],\n",
       "        [    3,     3,     3,  ..., 28420,     5,     2]], dtype=torch.int32)"
      ]
     },
     "execution_count": 13,
     "metadata": {},
     "output_type": "execute_result"
    }
   ],
   "source": [
    "# pad+2\n",
    "# len(x)/2\n",
    "y = x.unfold(1, min(1024, int(x.shape[1] / 2)), 1)\n",
    "print(y.shape)\n",
    "print((y != 3).logical_or(y != 1).any(axis=2).shape)\n",
    "y = y[(y != 3).logical_and(y != 1).any(axis=2)]\n",
    "# y=y.reshape(-1,194)\n",
    "# y[(y!=3).any(axis=1)].shape\n",
    "y\n",
    "# y.view(y.size(0), -1)\n"
   ]
  },
  {
   "cell_type": "code",
   "execution_count": 72,
   "metadata": {},
   "outputs": [],
   "source": [
    "import os\n",
    "from torch import optim, nn\n",
    "import pytorch_lightning as pl\n",
    "\n",
    "# define any number of nn.Modules (or use your current ones)\n",
    "encoder = nn.Sequential(nn.LazyLinear(64), nn.ReLU(), nn.Linear(64, 64))\n",
    "embedding = nn.Embedding(32000, 64,padding_idx=3, max_norm=True)\n",
    "# decoder = nn.Sequential(nn.Linear(3, 64), nn.ReLU(), nn.Linear(64, 28 * 28))\n",
    "\n",
    "# define the LightningModule\n",
    "class LitAutoEncoder(pl.LightningModule):\n",
    "    def __init__(self, encoder):\n",
    "        super().__init__()\n",
    "        self.encoder = encoder\n",
    "        self.embedding = embedding\n",
    "        # self.decoder = decoder\n",
    "\n",
    "    def training_step(self, batch, batch_idx):\n",
    "        x, y = batch\n",
    "        y = nn.functional.one_hot(torch.tensor(y, dtype=torch.long),num_classes=32000).float()\n",
    "        y_hat = self.encoder(self.embedding(x)).sum(-2)\n",
    "        y_hat = y_hat @ self.embedding.weight.T\n",
    "        y_hat = torch.nn.functional.softmax(y_hat)\n",
    "        print(y_hat.shape)\n",
    "        loss = nn.functional.mse_loss(torch.tensor([0.0], requires_grad=True),torch.tensor([1.0], requires_grad=True))\n",
    "        # Logging to TensorBoard by default\n",
    "        self.log(\"train_loss\", loss)\n",
    "        return loss\n",
    "\n",
    "    def configure_optimizers(self):\n",
    "        optimizer = torch.optim.Adam(self.parameters(), lr=1e-3)\n",
    "        return optimizer\n",
    "\n",
    "\n",
    "# init the autoencoder\n",
    "autoencoder = LitAutoEncoder(encoder)\n"
   ]
  },
  {
   "cell_type": "code",
   "execution_count": 73,
   "metadata": {},
   "outputs": [],
   "source": [
    "# a= torch.arange(24).reshape(2,3,4)\n",
    "# print(a)\n",
    "# a.sum(-2)\n",
    "# nn.functional.one_hot(torch.tensor([32000]),num_classes=5).float()"
   ]
  },
  {
   "cell_type": "code",
   "execution_count": 74,
   "metadata": {},
   "outputs": [
    {
     "name": "stderr",
     "output_type": "stream",
     "text": [
      "GPU available: False, used: False\n",
      "TPU available: False, using: 0 TPU cores\n",
      "IPU available: False, using: 0 IPUs\n",
      "HPU available: False, using: 0 HPUs\n",
      "`Trainer(limit_train_batches=1)` was configured so 1 batch per epoch will be used.\n",
      "\n",
      "  | Name      | Type       | Params\n",
      "-----------------------------------------\n",
      "0 | encoder   | Sequential | 4.2 K \n",
      "1 | embedding | Embedding  | 2.0 M \n",
      "-----------------------------------------\n",
      "2.1 M     Trainable params\n",
      "0         Non-trainable params\n",
      "2.1 M     Total params\n",
      "8.209     Total estimated model params size (MB)\n"
     ]
    },
    {
     "name": "stdout",
     "output_type": "stream",
     "text": [
      "Epoch 0:   0%|          | 0/1 [00:00<?, ?it/s] "
     ]
    },
    {
     "name": "stderr",
     "output_type": "stream",
     "text": [
      "/tmp/ipykernel_54370/4140419292.py:20: UserWarning: To copy construct from a tensor, it is recommended to use sourceTensor.clone().detach() or sourceTensor.clone().detach().requires_grad_(True), rather than torch.tensor(sourceTensor).\n",
      "  y = nn.functional.one_hot(torch.tensor(y, dtype=torch.long),num_classes=32000).float()\n",
      "/tmp/ipykernel_54370/4140419292.py:23: UserWarning: Implicit dimension choice for softmax has been deprecated. Change the call to include dim=X as an argument.\n",
      "  y_hat = torch.nn.functional.softmax(y_hat)\n"
     ]
    },
    {
     "name": "stdout",
     "output_type": "stream",
     "text": [
      "torch.Size([9152, 32000])\n",
      "Epoch 0: 100%|██████████| 1/1 [00:01<00:00,  1.30s/it, loss=1, v_num=5]"
     ]
    },
    {
     "name": "stderr",
     "output_type": "stream",
     "text": [
      "`Trainer.fit` stopped: `max_epochs=1` reached.\n"
     ]
    },
    {
     "name": "stdout",
     "output_type": "stream",
     "text": [
      "Epoch 0: 100%|██████████| 1/1 [00:01<00:00,  1.35s/it, loss=1, v_num=5]\n"
     ]
    }
   ],
   "source": [
    "trainer = pl.Trainer(limit_train_batches=1, max_epochs=1)\n",
    "trainer.fit(model=autoencoder, datamodule=data_module)\n"
   ]
  }
 ],
 "metadata": {
  "kernelspec": {
   "display_name": "Python 3 (ipykernel)",
   "language": "python",
   "name": "python3"
  },
  "language_info": {
   "codemirror_mode": {
    "name": "ipython",
    "version": 3
   },
   "file_extension": ".py",
   "mimetype": "text/x-python",
   "name": "python",
   "nbconvert_exporter": "python",
   "pygments_lexer": "ipython3",
   "version": "3.10.6"
  },
  "vscode": {
   "interpreter": {
    "hash": "cdd441ab56e000c5cdd95988c28580fb8a4796548cae7dec334c61097e187fe9"
   }
  }
 },
 "nbformat": 4,
 "nbformat_minor": 2
}
