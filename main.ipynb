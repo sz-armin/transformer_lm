{
 "cells": [
  {
   "cell_type": "code",
   "execution_count": 55,
   "metadata": {},
   "outputs": [],
   "source": [
    "import torch, sys, glob, os, math\n",
    "from pathlib import Path\n",
    "import numpy as np\n",
    "from multiprocessing import Pool\n"
   ]
  },
  {
   "cell_type": "markdown",
   "metadata": {},
   "source": [
    "## Binarize Training Data"
   ]
  },
  {
   "cell_type": "code",
   "execution_count": 44,
   "metadata": {},
   "outputs": [],
   "source": [
    "n = 16\n",
    "cwd = os.getcwd()\n",
    "prep_train_data_name = \"ru_small_id.txt\"\n"
   ]
  },
  {
   "cell_type": "code",
   "execution_count": 45,
   "metadata": {},
   "outputs": [
    {
     "name": "stdout",
     "output_type": "stream",
     "text": [
      "/project/cl-work2/armin-sa/resources/cc100-rus\n",
      "/home/is/armin-sa/Projects/lm\n"
     ]
    }
   ],
   "source": [
    "%cd data\n",
    "!split -n l/{n} {prep_train_data_name} chunk_\n",
    "%cd {cwd}"
   ]
  },
  {
   "cell_type": "code",
   "execution_count": 46,
   "metadata": {},
   "outputs": [],
   "source": [
    "def binarize_chunk(f_in_path):\n",
    "    with open(f_in_path, \"r\") as f_in, open(\n",
    "        \"data/prep_\" + Path(f_in_path).stem, \"wb\"\n",
    "    ) as f_out:\n",
    "        for line in f_in:\n",
    "            arr = np.fromstring(line, dtype=np.int32, sep=\" \")\n",
    "            f_out.write(\n",
    "                len(arr).to_bytes(2, byteorder=sys.byteorder, signed=False)\n",
    "                + arr.tobytes()\n",
    "            )\n"
   ]
  },
  {
   "cell_type": "code",
   "execution_count": 47,
   "metadata": {},
   "outputs": [],
   "source": [
    "with Pool(processes=n) as p:\n",
    "    p.map(binarize_chunk, glob.glob(\"data/chunk_*\"))\n"
   ]
  },
  {
   "cell_type": "code",
   "execution_count": 48,
   "metadata": {},
   "outputs": [
    {
     "name": "stdout",
     "output_type": "stream",
     "text": [
      "/project/cl-work2/armin-sa/resources/cc100-rus\n",
      "/home/is/armin-sa/Projects/lm\n"
     ]
    }
   ],
   "source": [
    "%cd data\n",
    "!rm chunk_*\n",
    "!cat prep_chunk_* > ru_small.bin\n",
    "!rm prep_chunk_*\n",
    "%cd {cwd}"
   ]
  },
  {
   "cell_type": "code",
   "execution_count": 49,
   "metadata": {},
   "outputs": [],
   "source": [
    "# with open(\"data/ru_small.bin\", \"rb\") as f_in:\n",
    "#     while count := int.from_bytes(f_in.read(2), byteorder=sys.byteorder, signed=False):\n",
    "#         arr = np.frombuffer(f_in.read(count * 4), count=count, dtype=np.int32)\n"
   ]
  },
  {
   "cell_type": "code",
   "execution_count": 50,
   "metadata": {},
   "outputs": [],
   "source": [
    "    # def _gen():\n",
    "    #     with open(\"data/ru_small.bin\", \"rb\") as f_in:\n",
    "    #         while count := int.from_bytes(f_in.read(2), byteorder=sys.byteorder, signed=False):\n",
    "    #             arr = torch.frombuffer(f_in.read(count * 4), count=count, dtype=torch.int)\n",
    "    #             yield arr"
   ]
  },
  {
   "cell_type": "code",
   "execution_count": 51,
   "metadata": {},
   "outputs": [
    {
     "data": {
      "text/plain": [
       "tensor([    1,  3272,   218,    63, 16572,  6069,     4, 18632,   123,    21,\n",
       "           83,     6,   671,     4,    98,  1637,   678,   113,    46, 28247,\n",
       "            4,     7,  1402,     8,    14,  8618,   306,   101,  1006,     4,\n",
       "           43,  1248,   275,  5130,     6, 10898,     4,    11,   413,     8,\n",
       "           15,   211, 14318,     4,     2], dtype=torch.int32)"
      ]
     },
     "execution_count": 51,
     "metadata": {},
     "output_type": "execute_result"
    }
   ],
   "source": [
    "# a =_gen()\n",
    "next(a)"
   ]
  },
  {
   "cell_type": "code",
   "execution_count": 58,
   "metadata": {},
   "outputs": [
    {
     "name": "stdout",
     "output_type": "stream",
     "text": [
      "[tensor([[  1,   4,  68,   4, 101,  40,   4, 127,  24,  18,   4,  82,  69,  69,\n",
      "          83,   4,  45,  20,  16,   4,   6,  13,  31,  23,   4,  40,  32,  55,\n",
      "          16,   4,  12,  35,  10,  30,   4,   6,  27,  55,   9,   5,  18,  29,\n",
      "          10,  19,  49,   4,  19,   8,  18,  18,   5,  19,   9,   6,  14,   5,\n",
      "           4,  95,   7,  43,  24,  30,   4,  40,  30,  42,  13,  17,   4, 127,\n",
      "          24,  34,  43,   7,  18,  31,  29,  19,   6,  13,  35,  12,  22,  59,\n",
      "          13,   4,   6,  27,  55,   9,   5,  18,  29,  10,   9,  14,  49,   4,\n",
      "         105,  26,   7,  10,   8,  62, 107,  42,   8, 127,  11,   7,  33,  31,\n",
      "          10,  19,  52,   4,  64,   7,  38,   7,  13,  10,  19,  52,  43,   8,\n",
      "          15,   7,  10,   9,  24,  11,  17,  61,  78,   4,  11,   8,  20,   6,\n",
      "          38,  10,  29,   4,   6,  53,  17,   4,   6,  27,  55,  25,   4,  63,\n",
      "          12,  15,  55,  13,  31,   9,   7,  18,  29,  59,  41,   4,   9,  11,\n",
      "          12,  20,  43,   6,   9,  11,   8,  26,   8,  34,   9,   7,   4,  66,\n",
      "           7,  60,  11,   6,  17,   4,  95,  80,  12,  18,  32,   7,  19,   8,\n",
      "          14,   7,  78,   4, 106, 102,  10,  40,  11,   6,  17,   4, 103,  12,\n",
      "          10,  10,  19,  56,   4, 107,  11,   7,  14,   8,  10,  38,  14,  15,\n",
      "          56,   4,  99,   5,  11,  19,  14,   6,  61,  21,   4, 104,   8,  43,\n",
      "          24,   4,  36,   8,   9,   5,  34,  47,  58,  10,  40,   4,  26,   5,\n",
      "          42,   6,  27,  55,  25,   4, 109,   9,  12,   4,  11,   7, 127,   8,\n",
      "           9,  12,  16,   4,   7,   4,   6,  27,  55,  25,   4,   5,   5,  28,\n",
      "          28,   8,  14,  42,  13,  31,  59,  13,   6,   4,  19,  49,  13,  31,\n",
      "           9,   7,  11,   6,  17,  13,   6,  16,  28,  58,  20,   8,  18,  33,\n",
      "          31,   6,   5,  13,   4,   9,  11,  12,  55,  43,   6,   9,  11,   8,\n",
      "          26,   8,  34,   9,   7,   4,  66,   7,  60,  11,   6,  17,  16,   4,\n",
      "           8, 127,   8,  11,  14,   7,  15,  15,  52,  35,  28,   5,  42,  20,\n",
      "           6,  15,   5,   4, 117, 116,  98,  98,  30,   5,  60,  16,  68,  30,\n",
      "          26,  54,  25,   4,  20,   8,  35,  39,   6,  36,   4,  20,  15,   5,\n",
      "          41,  21,   4,  96,   8,   4,   5,  10,  25,  43,  24,   4,  36,   8,\n",
      "           9,   5,  34,  37,  54,  33,   6,  25,  30,   4,   8,  10,  23,  14,\n",
      "          12,  30,  10,   5,  41,   4,  55,  18,  29,  15,   5,  41,  39,   5,\n",
      "          41,  35,  39,   5,  41,   4, 108,   5,  11,  19,   8,  14,  23,  62,\n",
      "           6,  10,  40,  11,   6,  22,   5,  10,  19,  56,  35,  12,  19,   6,\n",
      "          47,  19,   6,  41,   4,  63,  12,  15,  55,  13,  31,   9,   7,  18,\n",
      "          29,  59,  41,   4,   9,  11,  12,  20,  21,   2]], dtype=torch.int32), tensor([[  1,   4,  68,   4, 101,  40,   4, 127,  24,  18,   4,  82,  69,  69,\n",
      "          83,   4,  45,  20,  16,   4,   6,  13,  31,  23,   4,  40,  32,  55,\n",
      "          16,   4,  12,  35,  10,  30,   4,   6,  27,  55,   9,   5,  18,  29,\n",
      "          10,  19,  49,   4,  19,   8,  18,  18,   5,  19,   9,   6,  14,   5,\n",
      "           4,  95,   7,  43,  24,  30,   4,  40,  30,  42,  13,  17,   4, 127,\n",
      "          24,  34,  43,   7,  18,  31,  29,  19,   6,  13,  35,  12,  22,  59,\n",
      "          13,   4,   6,  27,  55,   9,   5,  18,  29,  10,   9,  14,  49,   4,\n",
      "         105,  26,   7,  10,   8,  62, 107,  42,   8, 127,  11,   7,  33,  31,\n",
      "          10,  19,  52,   4,  64,   7,  38,   7,  13,  10,  19,  52,  43,   8,\n",
      "          15,   7,  10,   9,  24,  11,  17,  61,  78,   4,  11,   8,  20,   6,\n",
      "          38,  10,  29,   4,   6,  53,  17,   4,   6,  27,  55,  25,   4,  63,\n",
      "          12,  15,  55,  13,  31,   9,   7,  18,  29,  59,  41,   4,   9,  11,\n",
      "          12,  20,  43,   6,   9,  11,   8,  26,   8,  34,   9,   7,   4,  66,\n",
      "           7,  60,  11,   6,  17,   4,  95,  80,  12,  18,  32,   7,  19,   8,\n",
      "          14,   7,  78,   4, 106, 102,  10,  40,  11,   6,  17,   4, 103,  12,\n",
      "          10,  10,  19,  56,   4, 107,  11,   7,  14,   8,  10,  38,  14,  15,\n",
      "          56,   4,  99,   5,  11,  19,  14,   6,  61,  21,   4, 104,   8,  43,\n",
      "          24,   4,  36,   8,   9,   5,  34,  47,  58,  10,  40,   4,  26,   5,\n",
      "          42,   6,  27,  55,  25,   4, 109,   9,  12,   4,  11,   7, 127,   8,\n",
      "           9,  12,  16,   4,   7,   4,   6,  27,  55,  25,   4,   5,   5,  28,\n",
      "          28,   8,  14,  42,  13,  31,  59,  13,   6,   4,  19,  49,  13,  31,\n",
      "           9,   7,  11,   6,  17,  13,   6,  16,  28,  58,  20,   8,  18,  33,\n",
      "          31,   6,   5,  13,   4,   9,  11,  12,  55,  43,   6,   9,  11,   8,\n",
      "          26,   8,  34,   9,   7,   4,  66,   7,  60,  11,   6,  17,  16,   4,\n",
      "           8, 127,   8,  11,  14,   7,  15,  15,  52,  35,  28,   5,  42,  20,\n",
      "           6,  15,   5,   4, 117, 116,  98,  98,  30,   5,  60,  16,  68,  30,\n",
      "          26,  54,  25,   4,  20,   8,  35,  39,   6,  36,   4,  20,  15,   5,\n",
      "          41,  21,   4,  96,   8,   4,   5,  10,  25,  43,  24,   4,  36,   8,\n",
      "           9,   5,  34,  37,  54,  33,   6,  25,  30,   4,   8,  10,  23,  14,\n",
      "          12,  30,  10,   5,  41,   4,  55,  18,  29,  15,   5,  41,  39,   5,\n",
      "          41,  35,  39,   5,  41,   4, 108,   5,  11,  19,   8,  14,  23,  62,\n",
      "           6,  10,  40,  11,   6,  22,   5,  10,  19,  56,  35,  12,  19,   6,\n",
      "          47,  19,   6,  41,   4,  63,  12,  15,  55,  13,  31,   9,   7,  18,\n",
      "          29,  59,  41,   4,   9,  11,  12,  20,  21,   2]], dtype=torch.int32), tensor([[  1,   4, 101,  15,   5,  11,  32,   6,  17,   4,  95,  14,  78,   4,\n",
      "          33,   6,  27,  46,  67,   4,  65,  66,  65,   4,   6,   4,  65,  88,\n",
      "          65,   4,   6,  34,   4,   8,  26,  17,  25,  58,   4,  20,  31,  29,\n",
      "          32,   6,  21,   2]], dtype=torch.int32)]\n"
     ]
    }
   ],
   "source": [
    "class CC100DataSet(torch.utils.data.IterableDataset):\n",
    "    def __init__(self, file_path):\n",
    "        super().__init__()\n",
    "        self.file = open(file_path, \"rb\")\n",
    "    def __iter__(self):\n",
    "        worker_info = torch.utils.data.get_worker_info()\n",
    "        if worker_info is None:\n",
    "            return self._gen()\n",
    "        else:\n",
    "            worker_id = worker_info.id\n",
    "            return self._gen()\n",
    "        # return iter(range(iter_start, iter_end))\n",
    "    def _gen(self):\n",
    "        with open(\"data/ru_small.bin\", \"rb\") as f_in:\n",
    "            while count := int.from_bytes(f_in.read(2), byteorder=sys.byteorder, signed=False):\n",
    "                arr = torch.frombuffer(f_in.read(count * 4), count=count, dtype=torch.int)\n",
    "                yield arr\n",
    "# should give same set of data as range(3, 7), i.e., [3, 4, 5, 6].\n",
    "ds = MyIterableDataset(\"data/ru_small.bin\")\n",
    "\n",
    "# Single-process loading\n",
    "# print(list(torch.utils.data.DataLoader(ds, num_workers=0))[:3])\n",
    "print(list(torch.utils.data.DataLoader(ds, num_workers=2))[:3])"
   ]
  }
 ],
 "metadata": {
  "kernelspec": {
   "display_name": "Python 3.10.5 ('pytorch')",
   "language": "python",
   "name": "python3"
  },
  "language_info": {
   "codemirror_mode": {
    "name": "ipython",
    "version": 3
   },
   "file_extension": ".py",
   "mimetype": "text/x-python",
   "name": "python",
   "nbconvert_exporter": "python",
   "pygments_lexer": "ipython3",
   "version": "3.10.5"
  },
  "orig_nbformat": 4,
  "vscode": {
   "interpreter": {
    "hash": "cdd441ab56e000c5cdd95988c28580fb8a4796548cae7dec334c61097e187fe9"
   }
  }
 },
 "nbformat": 4,
 "nbformat_minor": 2
}
