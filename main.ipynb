{
 "cells": [
  {
   "cell_type": "code",
   "execution_count": 25,
   "metadata": {},
   "outputs": [],
   "source": [
    "import torch, sys, glob, os, math\n",
    "from pathlib import Path\n",
    "import numpy as np\n",
    "from multiprocessing import Pool\n",
    "from copy import deepcopy\n",
    "import pytorch_lightning as pl\n",
    "from torch.utils.data import random_split, DataLoader\n",
    "from typing import Optional\n"
   ]
  },
  {
   "cell_type": "markdown",
   "metadata": {},
   "source": [
    "# DataSets and DataLoaders"
   ]
  },
  {
   "cell_type": "code",
   "execution_count": 26,
   "metadata": {},
   "outputs": [],
   "source": [
    "sample_locs = np.load(\"data/sample_locs.npy\")\n"
   ]
  },
  {
   "cell_type": "code",
   "execution_count": 27,
   "metadata": {},
   "outputs": [],
   "source": [
    "class CC100DataSet(torch.utils.data.Dataset):\n",
    "    def __init__(self, file_path, num_workers):\n",
    "        super().__init__()\n",
    "        self.sample_locs = sample_locs\n",
    "        self.file_handles = [open(file_path, \"rb\") for _ in range(num_workers)]\n",
    "        self.file_handles.append(open(file_path, \"rb\"))\n",
    "\n",
    "    def __len__(self):\n",
    "        return len(self.sample_locs)\n",
    "\n",
    "    def __getitem__(self, idx):\n",
    "        worker_info = torch.utils.data.get_worker_info()\n",
    "        if worker_info is None:\n",
    "            worker_id = 0\n",
    "        else:\n",
    "            worker_id = worker_info.id\n",
    "        self.file_handles[worker_id].seek(self.sample_locs[idx])\n",
    "        count = int.from_bytes(\n",
    "            self.file_handles[worker_id].read(2), byteorder=sys.byteorder, signed=False\n",
    "        )\n",
    "        arr = np.frombuffer(\n",
    "            self.file_handles[worker_id].read(count * 4), count=count, dtype=np.int32\n",
    "        )\n",
    "        return arr\n"
   ]
  },
  {
   "cell_type": "code",
   "execution_count": 42,
   "metadata": {},
   "outputs": [],
   "source": [
    "class CC100DataModule(pl.LightningDataModule):\n",
    "    def __init__(self, dataset: torch.utils.data.Dataset, path: str, num_workers: int = 0):\n",
    "        super().__init__()\n",
    "        self.dataset = dataset(path, num_workers)\n",
    "        self.num_workers = num_workers\n",
    "\n",
    "    def prepare_data(self):\n",
    "        pass\n",
    "\n",
    "    def setup(self, stage: Optional[str] = None):\n",
    "        if stage == \"fit\" or stage is None:\n",
    "            train_len = int(len(self.dataset) * 0.8)\n",
    "            self.dataset_train, self.dataset_val = random_split(\n",
    "                self.dataset, [train_len, len(self.dataset) - train_len]\n",
    "            )\n",
    "\n",
    "        if stage == \"test\" or stage is None:\n",
    "            self.dataset_test = self.dataset\n",
    "\n",
    "        if stage == \"predict\" or stage is None:\n",
    "            self.dataset_predict = self.dataset\n",
    "\n",
    "    def train_dataloader(self):\n",
    "        return DataLoader(\n",
    "            self.dataset_train,\n",
    "            batch_size=32,\n",
    "            collate_fn=self._collate_wrapper,\n",
    "            num_workers=self.num_workers,\n",
    "            prefetch_factor=4,\n",
    "        )\n",
    "\n",
    "    def val_dataloader(self):\n",
    "        return DataLoader(\n",
    "            self.dataset_val,\n",
    "            batch_size=32,\n",
    "            collate_fn=self._collate_wrapper,\n",
    "            num_workers=self.num_workers,\n",
    "            prefetch_factor=4,\n",
    "        )\n",
    "\n",
    "    def test_dataloader(self):\n",
    "        return DataLoader(\n",
    "            self.dataset_test,\n",
    "            batch_size=32,\n",
    "            collate_fn=self._collate_wrapper,\n",
    "            num_workers=self.num_workers,\n",
    "            prefetch_factor=4,\n",
    "        )\n",
    "\n",
    "    def predict_dataloader(self):\n",
    "        return DataLoader(\n",
    "            self.dataset_predict,\n",
    "            batch_size=32,\n",
    "            collate_fn=self._collate_wrapper,\n",
    "            num_workers=self.num_workers,\n",
    "            prefetch_factor=4,\n",
    "        )\n",
    "\n",
    "    def _collate_wrapper(self, batch):\n",
    "        return batch\n"
   ]
  },
  {
   "cell_type": "code",
   "execution_count": 43,
   "metadata": {},
   "outputs": [],
   "source": [
    "data_module = CC100DataModule(CC100DataSet, \"data/ru_small.bin\",4)\n",
    "data_module.prepare_data()\n",
    "data_module.setup()\n",
    "data_loader = data_module.train_dataloader()"
   ]
  },
  {
   "cell_type": "code",
   "execution_count": 45,
   "metadata": {},
   "outputs": [
    {
     "data": {
      "text/plain": [
       "15182"
      ]
     },
     "execution_count": 45,
     "metadata": {},
     "output_type": "execute_result"
    }
   ],
   "source": [
    "# next(iter(dl))\n",
    "c=0\n",
    "for _ in data_loader:\n",
    "    list(map(lambda x: torch.Tensor(x),_))\n",
    "    c+=1\n",
    "c"
   ]
  }
 ],
 "metadata": {
  "kernelspec": {
   "display_name": "Python 3 (ipykernel)",
   "language": "python",
   "name": "python3"
  },
  "language_info": {
   "codemirror_mode": {
    "name": "ipython",
    "version": 3
   },
   "file_extension": ".py",
   "mimetype": "text/x-python",
   "name": "python",
   "nbconvert_exporter": "python",
   "pygments_lexer": "ipython3",
   "version": "3.10.5"
  },
  "vscode": {
   "interpreter": {
    "hash": "cdd441ab56e000c5cdd95988c28580fb8a4796548cae7dec334c61097e187fe9"
   }
  }
 },
 "nbformat": 4,
 "nbformat_minor": 2
}
