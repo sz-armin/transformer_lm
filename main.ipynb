{
 "cells": [
  {
   "cell_type": "code",
   "execution_count": 1,
   "metadata": {},
   "outputs": [],
   "source": [
    "import sys, glob, os\n",
    "from pathlib import Path\n",
    "import numpy as np\n",
    "from multiprocessing import Pool\n"
   ]
  },
  {
   "cell_type": "code",
   "execution_count": 2,
   "metadata": {},
   "outputs": [],
   "source": [
    "n=16\n",
    "cwd= os.getcwd()\n",
    "prep_train_data_name=\"ru_small_id.txt\""
   ]
  },
  {
   "cell_type": "code",
   "execution_count": 3,
   "metadata": {},
   "outputs": [
    {
     "name": "stdout",
     "output_type": "stream",
     "text": [
      "/project/cl-work2/armin-sa/resources/cc100-rus\n",
      "/home/is/armin-sa/Projects/lm\n"
     ]
    }
   ],
   "source": [
    "%cd data\n",
    "!split -n l/{n} {prep_train_data_name} chunk_\n",
    "%cd {cwd}"
   ]
  },
  {
   "cell_type": "code",
   "execution_count": 4,
   "metadata": {},
   "outputs": [],
   "source": [
    "def binarize_chunk(f_in_path):\n",
    "    with open(f_in_path, \"r\") as f_in, open(\"data/prep_\" + Path(f_in_path).stem, \"wb\") as f_out:\n",
    "        for line in f_in:\n",
    "            arr = np.fromstring(line, dtype=np.uint16, sep=\" \")\n",
    "            f_out.write(\n",
    "                len(arr).to_bytes(2, byteorder=sys.byteorder, signed=False) + arr.tobytes()\n",
    "            )\n"
   ]
  },
  {
   "cell_type": "code",
   "execution_count": 5,
   "metadata": {},
   "outputs": [],
   "source": [
    "with Pool(processes=n) as p:\n",
    "    p.map(binarize_chunk, glob.glob(\"data/chunk_*\"))"
   ]
  },
  {
   "cell_type": "code",
   "execution_count": 6,
   "metadata": {},
   "outputs": [
    {
     "name": "stdout",
     "output_type": "stream",
     "text": [
      "/project/cl-work2/armin-sa/resources/cc100-rus\n",
      "/home/is/armin-sa/Projects/lm\n"
     ]
    }
   ],
   "source": [
    "%cd data\n",
    "!rm chunk_*\n",
    "!cat prep_chunk_* > ru_small.bin\n",
    "!rm prep_chunk_*\n",
    "%cd {cwd}"
   ]
  },
  {
   "cell_type": "code",
   "execution_count": 7,
   "metadata": {},
   "outputs": [],
   "source": [
    "# with open(\"/home/is/armin-sa/Projects/lm/data/ru_small_id.txt\") as f_in, open(\n",
    "#     \"/home/is/armin-sa/Projects/lm/data/ru_small.npy\", \"wb\"\n",
    "# ) as f_out:\n",
    "#     for line in f_in:\n",
    "#         arr = np.fromstring(line, dtype=np.uint16, sep=\" \")\n",
    "#         f_out.write(\n",
    "#             len(arr).to_bytes(16, byteorder=sys.byteorder, signed=False) + arr.tobytes()\n",
    "#         )\n",
    "# print(arr)\n"
   ]
  },
  {
   "cell_type": "code",
   "execution_count": 10,
   "metadata": {},
   "outputs": [],
   "source": [
    "with open(\"data/ru_small.bin\", \"rb\") as f_in:\n",
    "    while count := int.from_bytes(f_in.read(2), byteorder=sys.byteorder, signed=False):\n",
    "        arr = np.frombuffer(f_in.read(count * 2), count=count, dtype=np.uint16)\n",
    "        l.append(arr)\n"
   ]
  },
  {
   "cell_type": "code",
   "execution_count": 15,
   "metadata": {},
   "outputs": [
    {
     "name": "stdout",
     "output_type": "stream",
     "text": [
      "[    1 22362   974    10   160    59  8430     8  2873     4    66     8\n",
      "    23    41 11047  7146     5     2]\n"
     ]
    }
   ],
   "source": [
    "print(l[-3])\n"
   ]
  }
 ],
 "metadata": {
  "kernelspec": {
   "display_name": "Python 3.10.5 ('pytorch')",
   "language": "python",
   "name": "python3"
  },
  "language_info": {
   "codemirror_mode": {
    "name": "ipython",
    "version": 3
   },
   "file_extension": ".py",
   "mimetype": "text/x-python",
   "name": "python",
   "nbconvert_exporter": "python",
   "pygments_lexer": "ipython3",
   "version": "3.10.5"
  },
  "orig_nbformat": 4,
  "vscode": {
   "interpreter": {
    "hash": "cdd441ab56e000c5cdd95988c28580fb8a4796548cae7dec334c61097e187fe9"
   }
  }
 },
 "nbformat": 4,
 "nbformat_minor": 2
}
