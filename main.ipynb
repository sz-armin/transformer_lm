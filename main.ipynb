{
 "cells": [
  {
   "cell_type": "code",
   "execution_count": 1,
   "metadata": {},
   "outputs": [
    {
     "name": "stderr",
     "output_type": "stream",
     "text": [
      "/home/is/armin-sa/miniconda3/envs/pytorch/lib/python3.10/site-packages/tqdm/auto.py:22: TqdmWarning: IProgress not found. Please update jupyter and ipywidgets. See https://ipywidgets.readthedocs.io/en/stable/user_install.html\n",
      "  from .autonotebook import tqdm as notebook_tqdm\n"
     ]
    }
   ],
   "source": [
    "import torch, sys, glob, os, math\n",
    "from pathlib import Path\n",
    "import numpy as np\n",
    "import torch.multiprocessing as mp\n",
    "mp.set_start_method('fork')\n",
    "from multiprocessing import Pool\n",
    "from copy import deepcopy\n"
   ]
  },
  {
   "cell_type": "markdown",
   "metadata": {},
   "source": [
    "## Binarize Training Data"
   ]
  },
  {
   "cell_type": "code",
   "execution_count": 2,
   "metadata": {},
   "outputs": [],
   "source": [
    "n = 16\n",
    "cwd = os.getcwd()\n",
    "prep_train_data_name = \"ru_small_id.txt\"\n"
   ]
  },
  {
   "cell_type": "code",
   "execution_count": 3,
   "metadata": {},
   "outputs": [
    {
     "name": "stdout",
     "output_type": "stream",
     "text": [
      "/project/cl-work2/armin-sa/resources/cc100-rus\n",
      "/home/is/armin-sa/Projects/lm\n"
     ]
    }
   ],
   "source": [
    "%cd data\n",
    "!split -n l/{n} {prep_train_data_name} chunk_\n",
    "%cd {cwd}"
   ]
  },
  {
   "cell_type": "code",
   "execution_count": 4,
   "metadata": {},
   "outputs": [],
   "source": [
    "def binarize_chunk(f_in_path):\n",
    "    with open(f_in_path, \"r\") as f_in, open(\n",
    "        \"data/prep_\" + Path(f_in_path).stem, \"wb\"\n",
    "    ) as f_out:\n",
    "        for line in f_in:\n",
    "            arr = np.fromstring(line, dtype=np.int32, sep=\" \")\n",
    "            f_out.write(\n",
    "                len(arr).to_bytes(2, byteorder=sys.byteorder, signed=False)\n",
    "                + arr.tobytes()\n",
    "            )\n"
   ]
  },
  {
   "cell_type": "code",
   "execution_count": 5,
   "metadata": {},
   "outputs": [],
   "source": [
    "with Pool(processes=n) as p:\n",
    "    p.map(binarize_chunk, glob.glob(\"data/chunk_*\"))\n"
   ]
  },
  {
   "cell_type": "code",
   "execution_count": 6,
   "metadata": {},
   "outputs": [
    {
     "name": "stdout",
     "output_type": "stream",
     "text": [
      "/project/cl-work2/armin-sa/resources/cc100-rus\n",
      "/home/is/armin-sa/Projects/lm\n"
     ]
    }
   ],
   "source": [
    "%cd data\n",
    "!rm chunk_*\n",
    "!cat prep_chunk_* > ru_small.bin\n",
    "!rm prep_chunk_*\n",
    "%cd {cwd}"
   ]
  },
  {
   "cell_type": "code",
   "execution_count": 7,
   "metadata": {},
   "outputs": [],
   "source": [
    "sample_locs = [0]\n",
    "with open(\"data/ru_small.bin\", \"rb\") as f_in:\n",
    "    while count := int.from_bytes(f_in.read(2), byteorder=sys.byteorder, signed=False):\n",
    "        arr = np.frombuffer(f_in.read(count * 4), count=count, dtype=np.int32)\n",
    "        sample_locs.append(f_in.tell())\n",
    "\n",
    "sample_locs = np.array(sample_locs[:-1])\n"
   ]
  },
  {
   "cell_type": "code",
   "execution_count": 8,
   "metadata": {},
   "outputs": [],
   "source": [
    "# with open(\"data/ru_small.bin\", \"rb\") as f:\n",
    "#     f.seek(sample_locs[2])\n",
    "#     count = int.from_bytes(f.read(2), byteorder=sys.byteorder, signed=False)\n",
    "#     arr = np.frombuffer(f.read(count * 4), count=count, dtype=np.int32)\n"
   ]
  },
  {
   "cell_type": "code",
   "execution_count": 9,
   "metadata": {},
   "outputs": [],
   "source": [
    "# def _gen():\n",
    "#     with open(\"data/ru_small.bin\", \"rb\") as f_in:\n",
    "#         while count := int.from_bytes(f_in.read(2), byteorder=sys.byteorder, signed=False):\n",
    "#             arr = torch.frombuffer(f_in.read(count * 4), count=count, dtype=torch.int)\n",
    "#             yield arr\n"
   ]
  },
  {
   "cell_type": "code",
   "execution_count": 10,
   "metadata": {},
   "outputs": [],
   "source": [
    "# a =_gen()\n",
    "# next(a)\n"
   ]
  },
  {
   "cell_type": "code",
   "execution_count": 15,
   "metadata": {},
   "outputs": [],
   "source": [
    "class CC100DataSet(torch.utils.data.Dataset):\n",
    "    def __init__(self, file_path, num_workers):\n",
    "        super().__init__()\n",
    "        self.sample_locs = deepcopy(sample_locs)\n",
    "        self.file_handles = [open(file_path, \"rb\") for _ in range(num_workers)]\n",
    "        self.file_handles.append(open(file_path, \"rb\"))\n",
    "\n",
    "    def __len__(self):\n",
    "        return len(self.sample_locs)\n",
    "\n",
    "    def __getitem__(self, idx):\n",
    "        worker_info = torch.utils.data.get_worker_info()\n",
    "        if worker_info is None:\n",
    "            worker_id = 0\n",
    "        else:\n",
    "            worker_id = worker_info.id\n",
    "        self.file_handles[worker_id].seek(self.sample_locs[idx])\n",
    "        count = int.from_bytes(\n",
    "            self.file_handles[worker_id].read(2), byteorder=sys.byteorder, signed=False\n",
    "        )\n",
    "        # if count == 0:\n",
    "        #     print(idx)\n",
    "        arr = np.frombuffer(self.file_handles[worker_id].read(count * 4), count=count, dtype=np.int32)\n",
    "        return arr\n",
    "\n",
    "\n",
    "def collate_wrapper(batch):\n",
    "    return batch\n",
    "\n",
    "\n",
    "num_workers = 8\n",
    "ds = CC100DataSet(\"data/ru_small.bin\", num_workers)\n",
    "# data_loader = torch.utils.data.DataLoader(ds, num_workers=0, batch_size=1, collate_fn=collate_wrapper)\n",
    "\n",
    "# c=0\n",
    "# for _ in data_loader:\n",
    "#     c+=1\n"
   ]
  },
  {
   "cell_type": "code",
   "execution_count": 22,
   "metadata": {},
   "outputs": [],
   "source": [
    "data_loader = torch.utils.data.DataLoader(\n",
    "    ds,\n",
    "    num_workers=num_workers,\n",
    "    shuffle=False,\n",
    "    batch_size=64,\n",
    "    collate_fn=collate_wrapper,\n",
    "    prefetch_factor=1,\n",
    "    persistent_workers=True,\n",
    ")\n",
    "\n",
    "# x=iter(data_loader)\n",
    "# print(next(x))\n",
    "# x=iter(data_loader)\n",
    "# print(next(x))\n",
    "\n",
    "c = 0\n",
    "l = []\n",
    "for _ in data_loader:\n",
    "    l.append(_)\n",
    "    c+=1\n"
   ]
  },
  {
   "cell_type": "code",
   "execution_count": 20,
   "metadata": {},
   "outputs": [],
   "source": [
    "# with open(\"data/ru_small.bin\", \"rb\") as f:\n",
    "#     f.seek(sample_locs[0])\n",
    "#     count = int.from_bytes(f.read(2), byteorder=sys.byteorder, signed=False)\n",
    "#     arr = np.frombuffer(f.read(count * 4), count=count, dtype=np.int32)\n",
    "# arr"
   ]
  },
  {
   "cell_type": "code",
   "execution_count": 23,
   "metadata": {},
   "outputs": [
    {
     "data": {
      "text/plain": [
       "[array([    1, 23546,   130,  7009,   122,    15, 21192,    14,  2250,\n",
       "           48,  6676,  4823,  4925,   639,    57,    59,     4,    21,\n",
       "          180,  3702,    37,  6244,  9535,   102,  7729,     7,    14,\n",
       "        25405, 11979,     5,   145,   340,     8, 22087,  2360,     7,\n",
       "            8,   101,  9066,   904,  2360,    15,    10,   829,    55,\n",
       "           48,    10,   141, 19281,     4,  5213,   566,    59,   307,\n",
       "          135, 30948,   286,     7, 21680,   385,    23,    23,  2159,\n",
       "         3000,   479,  2969,     4,  6013,     7, 11387, 15045,     5,\n",
       "            2], dtype=int32),\n",
       " array([    1,   215,    21,    59,     8, 23809,     7, 14790,     4,\n",
       "           98,   311,    49,  1997,   458,  3956,     7,    43,  2144,\n",
       "          121,   105,    97,    14,  6300,  1543,  1994,    39,     2],\n",
       "       dtype=int32),\n",
       " array([    1,   236,  7329,   228,     4, 22051,     7,   140,     9,\n",
       "        10097,    76,     4,   405,     5,    79,  2607,     4, 19249,\n",
       "         2554,     5,     2], dtype=int32),\n",
       " array([    1,    79,   550, 14098,    22,  1794,  3045,  3580,  3445,\n",
       "           25,   587, 12143,   214,   765, 11922,   737,    53,    81,\n",
       "            8,    65,  1965,  3444,  2066,     7, 22931,    26,   171,\n",
       "         7179,   664,     4,    43,     7,  8728, 27787,    16,  3024,\n",
       "            4,    15,   670,    89, 15790,  3204,     5,   547, 14098,\n",
       "           81,   413,  4397,    25, 11866,  9071,    15, 13310,  3226,\n",
       "           35,   765, 11922,   737,     5,   260, 10996,  7329,  1418,\n",
       "            7,   270,  5167,    30, 23571,     6,  2268,    91,     5,\n",
       "          225,  3445,    25,   400,  6717,    19,   286,  2219,  3350,\n",
       "           12,  3445,     4,   439,   654,   852,     9, 24886,    16,\n",
       "            6,   431,  1235,   648,     5,     2], dtype=int32),\n",
       " array([    1,   450,  2600, 14124,     7,    14, 18320,   197,  8784,\n",
       "          149,  8880,    79, 14114,    18,   545,     7,    68, 16541,\n",
       "          248, 22315,     6,   326,    10, 13796, 19820,  2158, 10933,\n",
       "           13,  2141,     7,  4432,  1824,  6276,     5,    27,   805,\n",
       "           23,  1814,   738, 10524,  5065,     6,  4135,    54,  6106,\n",
       "        21924,   916,   205,     7, 21924, 13244,     5,     2],\n",
       "       dtype=int32),\n",
       " array([    1,    27,  1585,     4,  5718,    14, 19743,   474,     7,\n",
       "        22845,  3006,  1995,   427,   795,   606,     7,   963,  5223,\n",
       "         1165,    93,     5, 12387,    12,     6,   604,   202, 14752,\n",
       "         7044,     5,     2], dtype=int32)]"
      ]
     },
     "execution_count": 23,
     "metadata": {},
     "output_type": "execute_result"
    }
   ],
   "source": [
    "l[-1]"
   ]
  },
  {
   "cell_type": "code",
   "execution_count": 21,
   "metadata": {},
   "outputs": [
    {
     "name": "stdout",
     "output_type": "stream",
     "text": [
      "15182\n"
     ]
    }
   ],
   "source": [
    "print(c)\n"
   ]
  }
 ],
 "metadata": {
  "kernelspec": {
   "display_name": "Python 3 (ipykernel)",
   "language": "python",
   "name": "python3"
  },
  "language_info": {
   "codemirror_mode": {
    "name": "ipython",
    "version": 3
   },
   "file_extension": ".py",
   "mimetype": "text/x-python",
   "name": "python",
   "nbconvert_exporter": "python",
   "pygments_lexer": "ipython3",
   "version": "3.10.5"
  },
  "vscode": {
   "interpreter": {
    "hash": "cdd441ab56e000c5cdd95988c28580fb8a4796548cae7dec334c61097e187fe9"
   }
  }
 },
 "nbformat": 4,
 "nbformat_minor": 2
}
