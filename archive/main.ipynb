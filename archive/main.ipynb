{
 "cells": [
  {
   "cell_type": "code",
   "execution_count": 10,
   "metadata": {},
   "outputs": [],
   "source": [
    "import torch, sys, random\n",
    "from torch import nn\n",
    "import pytorch_lightning as pl\n",
    "from pathlib import Path\n",
    "import numpy as np\n",
    "from copy import deepcopy\n",
    "import pytorch_lightning as pl\n",
    "from torch.utils.data import random_split, DataLoader\n",
    "from typing import Optional\n",
    "import src.datasets as datasets\n",
    "import src.models as models"
   ]
  },
  {
   "cell_type": "code",
   "execution_count": 11,
   "metadata": {},
   "outputs": [],
   "source": [
    "main_dm = datasets.MainDataModule(datasets.TrainDataSet(\"data/ru_small.bin\", \"data/sample_locs.npy\", 8))\n",
    "test_ds = datasets.TestDataSet()\n",
    "test_dl = DataLoader(test_ds, batch_size=8)"
   ]
  },
  {
   "cell_type": "code",
   "execution_count": 17,
   "metadata": {},
   "outputs": [],
   "source": [
    "main_dm.setup()\n",
    "ld = main_dm.train_dataloader()\n",
    "it = iter(ld)\n"
   ]
  },
  {
   "cell_type": "code",
   "execution_count": 23,
   "metadata": {},
   "outputs": [
    {
     "data": {
      "text/plain": [
       "tensor([[   3,    3,    3,    3,    3,    3,    3,    3,    3,    3,    3,    3,\n",
       "            3,    3,    3,    3,    3,    3,    3,    3,    3,    3,    3,    3,\n",
       "            3,    3,    3,    3,    3,    3,    3,    3,    3,    3,    3,    3,\n",
       "            3,    3,    3,    3,    3,    3,    3,    3,    3,    3,    3,    3,\n",
       "            3,    3,    3,    3,    3,    3,    3,    3,    3,    3,    3,    3,\n",
       "            3,    3,    3,    3,    3,    3,    3,    3,    3,    3,    3,    3,\n",
       "            3,    3,    3,    3,    3,    3,    3,    3,    3,    3,    3,    3,\n",
       "            3,    3,    3,    3,    3,    3,    3,    3,    3,    3,    3,    3,\n",
       "            3,    3,    3,    3,    3,    3,    3,    3,    3,    3,    3,    3,\n",
       "            1,  125,    4, 1978,   63,    7, 4083,   35,  161,   56,    8,   35,\n",
       "         4292,   56, 1488, 4146,    4,    2],\n",
       "        [   3,    3,    3,    3,    3,    3,    3,    3,    3,    3,    3,    3,\n",
       "            3,    3,    3,    3,    3,    3,    3,    3,    3,    3,    3,    3,\n",
       "            3,    3,    3,    3,    3,    3,    3,    3,    3,    3,    3,    3,\n",
       "            3,    3,    3,    3,    3,    3,    3,    3,    3,    3,    3,    3,\n",
       "            3,    3,    3,    3,    3,    3,    3,    3,    3,    3,    3,    3,\n",
       "            3,    3,    3,    3,    3,    3,    3,    3,    3,    3,    3,    3,\n",
       "            3,    3,    3,    3,    3,    3,    3,    3,    3,    3,    3,    3,\n",
       "            3,    3,    3,    3,    3,    3,    3,    3,    3,    3,    3,    3,\n",
       "            3,    3,    3,    3,    3,    3,    3,    3,    3,    3,    3,    3,\n",
       "            1, 2165,  273, 1840,  172,   54,  981, 1586,  197,   66,  915,    6,\n",
       "         5842,   13, 7175,    7,    5,    2],\n",
       "        [   3,    3,    3,    3,    3,    3,    3,    3,    3,    3,    3,    3,\n",
       "            3,    3,    3,    3,    3,    3,    3,    3,    3,    3,    3,    3,\n",
       "            3,    3,    3,    3,    3,    3,    3,    3,    3,    3,    3,    3,\n",
       "            3,    3,    3,    3,    3,    3,    3,    3,    3,    3,    3,    3,\n",
       "            3,    3,    3,    3,    3,    3,    3,    3,    3,    3,    3,    3,\n",
       "            3,    3,    3,    1,  360,  232,  141, 4252, 4998,    5, 1606,   10,\n",
       "         4738,   10,   73, 1136, 3560,    7, 2757,    7,    4, 1127,    7, 3425,\n",
       "           53, 5635,  251, 3280,  136, 3302,    4,   19,   25,  587,  155, 1095,\n",
       "         4541, 1009,    4,   33, 5316,   28,    5,  118, 4374,    6,  362,  370,\n",
       "          130,  135, 1106,   41,  641, 2514, 5316,  160, 7914,   13,   82, 2534,\n",
       "         5865,  671,   50, 5277,    5,    2],\n",
       "        [   3,    3,    3,    3,    3,    3,    3,    3,    3,    3,    3,    3,\n",
       "            3,    3,    3,    3,    3,    3,    3,    3,    3,    3,    3,    3,\n",
       "            3,    3,    3,    3,    3,    3,    3,    3,    3,    3,    3,    3,\n",
       "            3,    3,    3,    3,    3,    3,    3,    3,    3,    3,    3,    3,\n",
       "            3,    3,    3,    3,    3,    3,    3,    3,    3,    3,    3,    3,\n",
       "            3,    3,    3,    3,    3,    3,    3,    3,    3,    3,    3,    3,\n",
       "            3,    3,    1,   27, 2023,  155,   12,   53, 7277,    7, 1931, 2431,\n",
       "          565,   18,  884, 4126,   17,  120,  499,    4,   30, 1287,  114, 3673,\n",
       "         6126, 3325,   58,   71, 1117, 4954,   22,   71,  378,   14, 2475, 1026,\n",
       "           37,    4,   41,   30, 6765,  114,   31,   71,  516,  884,  441,    5,\n",
       "           20,  248,    9,  253,   26,    2]], dtype=torch.int32)"
      ]
     },
     "execution_count": 23,
     "metadata": {},
     "output_type": "execute_result"
    }
   ],
   "source": [
    "next(it)"
   ]
  },
  {
   "cell_type": "code",
   "execution_count": null,
   "metadata": {},
   "outputs": [],
   "source": [
    "# baseline_model = models.BaselineModel()"
   ]
  },
  {
   "cell_type": "code",
   "execution_count": null,
   "metadata": {},
   "outputs": [
    {
     "name": "stderr",
     "output_type": "stream",
     "text": [
      "GPU available: True (cuda), used: True\n",
      "TPU available: False, using: 0 TPU cores\n",
      "IPU available: False, using: 0 IPUs\n",
      "HPU available: False, using: 0 HPUs\n",
      "LOCAL_RANK: 0 - CUDA_VISIBLE_DEVICES: [0,1,2]\n",
      "\n",
      "  | Name      | Type       | Params\n",
      "-----------------------------------------\n",
      "0 | embedding | Embedding  | 16.4 M\n",
      "1 | encoder   | Sequential | 2.1 M \n",
      "-----------------------------------------\n",
      "34.9 M    Trainable params\n",
      "0         Non-trainable params\n",
      "34.9 M    Total params\n",
      "139.471   Total estimated model params size (MB)\n"
     ]
    },
    {
     "name": "stdout",
     "output_type": "stream",
     "text": [
      "Epoch 0:   3%|▎         | 45/1452 [00:05<02:46,  8.43it/s, loss=10.2, v_num=3]"
     ]
    },
    {
     "name": "stderr",
     "output_type": "stream",
     "text": [
      "/home/is/armin-sa/miniconda3/envs/pytorch/lib/python3.10/site-packages/pytorch_lightning/trainer/trainer.py:653: UserWarning: Detected KeyboardInterrupt, attempting graceful shutdown...\n",
      "  rank_zero_warn(\"Detected KeyboardInterrupt, attempting graceful shutdown...\")\n"
     ]
    }
   ],
   "source": [
    "# trainer = pl.Trainer(\n",
    "#     limit_train_batches=10000, max_epochs=2, accelerator=\"gpu\", devices=1\n",
    "# )\n",
    "# trainer.fit(model=baseline_model, datamodule=main_dm)"
   ]
  },
  {
   "cell_type": "code",
   "execution_count": null,
   "metadata": {},
   "outputs": [
    {
     "data": {
      "text/plain": [
       "tensor(3)"
      ]
     },
     "execution_count": 10,
     "metadata": {},
     "output_type": "execute_result"
    }
   ],
   "source": [
    "with torch.no_grad():\n",
    "    tmp = baseline_model(torch.full((2,), 3))\n",
    "tmp.argmax()\n"
   ]
  },
  {
   "cell_type": "code",
   "execution_count": 24,
   "metadata": {},
   "outputs": [],
   "source": [
    "a = torch.tensor([[   3,    3,    3,    3,    3,    3,    3,    3,    3,    3,    3,    3,\n",
    "            3,    3,    3,    3,    3,    3,    3,    3,    3,    3,    3,    3,\n",
    "            3,    3,    3,    3,    3,    3,    3,    3,    3,    3,    3,    3,\n",
    "            3,    3,    3,    3,    3,    3,    3,    3,    3,    3,    3,    3,\n",
    "            3,    3,    3,    3,    3,    3,    3,    3,    3,    3,    3,    3,\n",
    "            3,    3,    3,    3,    3,    3,    3,    3,    3,    3,    3,    3,\n",
    "            3,    3,    3,    3,    3,    3,    3,    3,    3,    3,    3,    3,\n",
    "            3,    3,    3,    3,    3,    3,    3,    3,    3,    3,    3,    3,\n",
    "            3,    3,    3,    3,    3,    3,    3,    3,    3,    3,    3,    3,\n",
    "            1,  125,    4, 1978,   63,    7, 4083,   35,  161,   56,    8,   35,\n",
    "         4292,   56, 1488, 4146,    4,    2],\n",
    "        [   3,    3,    3,    3,    3,    3,    3,    3,    3,    3,    3,    3,\n",
    "            3,    3,    3,    3,    3,    3,    3,    3,    3,    3,    3,    3,\n",
    "            3,    3,    3,    3,    3,    3,    3,    3,    3,    3,    3,    3,\n",
    "            3,    3,    3,    3,    3,    3,    3,    3,    3,    3,    3,    3,\n",
    "            3,    3,    3,    3,    3,    3,    3,    3,    3,    3,    3,    3,\n",
    "            3,    3,    3,    3,    3,    3,    3,    3,    3,    3,    3,    3,\n",
    "            3,    3,    3,    3,    3,    3,    3,    3,    3,    3,    3,    3,\n",
    "            3,    3,    3,    3,    3,    3,    3,    3,    3,    3,    3,    3,\n",
    "            3,    3,    3,    3,    3,    3,    3,    3,    3,    3,    3,    3,\n",
    "            1, 2165,  273, 1840,  172,   54,  981, 1586,  197,   66,  915,    6,\n",
    "         5842,   13, 7175,    7,    5,    2],\n",
    "        [   3,    3,    3,    3,    3,    3,    3,    3,    3,    3,    3,    3,\n",
    "            3,    3,    3,    3,    3,    3,    3,    3,    3,    3,    3,    3,\n",
    "            3,    3,    3,    3,    3,    3,    3,    3,    3,    3,    3,    3,\n",
    "            3,    3,    3,    3,    3,    3,    3,    3,    3,    3,    3,    3,\n",
    "            3,    3,    3,    3,    3,    3,    3,    3,    3,    3,    3,    3,\n",
    "            3,    3,    3,    1,  360,  232,  141, 4252, 4998,    5, 1606,   10,\n",
    "         4738,   10,   73, 1136, 3560,    7, 2757,    7,    4, 1127,    7, 3425,\n",
    "           53, 5635,  251, 3280,  136, 3302,    4,   19,   25,  587,  155, 1095,\n",
    "         4541, 1009,    4,   33, 5316,   28,    5,  118, 4374,    6,  362,  370,\n",
    "          130,  135, 1106,   41,  641, 2514, 5316,  160, 7914,   13,   82, 2534,\n",
    "         5865,  671,   50, 5277,    5,    2],\n",
    "        [   3,    3,    3,    3,    3,    3,    3,    3,    3,    3,    3,    3,\n",
    "            3,    3,    3,    3,    3,    3,    3,    3,    3,    3,    3,    3,\n",
    "            3,    3,    3,    3,    3,    3,    3,    3,    3,    3,    3,    3,\n",
    "            3,    3,    3,    3,    3,    3,    3,    3,    3,    3,    3,    3,\n",
    "            3,    3,    3,    3,    3,    3,    3,    3,    3,    3,    3,    3,\n",
    "            3,    3,    3,    3,    3,    3,    3,    3,    3,    3,    3,    3,\n",
    "            3,    3,    1,   27, 2023,  155,   12,   53, 7277,    7, 1931, 2431,\n",
    "          565,   18,  884, 4126,   17,  120,  499,    4,   30, 1287,  114, 3673,\n",
    "         6126, 3325,   58,   71, 1117, 4954,   22,   71,  378,   14, 2475, 1026,\n",
    "           37,    4,   41,   30, 6765,  114,   31,   71,  516,  884,  441,    5,\n",
    "           20,  248,    9,  253,   26,    2]], dtype=torch.int32)"
   ]
  },
  {
   "cell_type": "code",
   "execution_count": 27,
   "metadata": {},
   "outputs": [],
   "source": [
    "a=a[2:,:]"
   ]
  },
  {
   "cell_type": "code",
   "execution_count": 28,
   "metadata": {},
   "outputs": [
    {
     "data": {
      "text/plain": [
       "tensor([[   3,    3,    3,    3,    3,    3,    3,    3,    3,    3,    3,    3,\n",
       "            3,    3,    3,    3,    3,    3,    3,    3,    3,    3,    3,    3,\n",
       "            3,    3,    3,    3,    3,    3,    3,    3,    3,    3,    3,    3,\n",
       "            3,    3,    3,    3,    3,    3,    3,    3,    3,    3,    3,    3,\n",
       "            3,    3,    3,    3,    3,    3,    3,    3,    3,    3,    3,    3,\n",
       "            3,    3,    3,    1,  360,  232,  141, 4252, 4998,    5, 1606,   10,\n",
       "         4738,   10,   73, 1136, 3560,    7, 2757,    7,    4, 1127,    7, 3425,\n",
       "           53, 5635,  251, 3280,  136, 3302,    4,   19,   25,  587,  155, 1095,\n",
       "         4541, 1009,    4,   33, 5316,   28,    5,  118, 4374,    6,  362,  370,\n",
       "          130,  135, 1106,   41,  641, 2514, 5316,  160, 7914,   13,   82, 2534,\n",
       "         5865,  671,   50, 5277,    5,    2],\n",
       "        [   3,    3,    3,    3,    3,    3,    3,    3,    3,    3,    3,    3,\n",
       "            3,    3,    3,    3,    3,    3,    3,    3,    3,    3,    3,    3,\n",
       "            3,    3,    3,    3,    3,    3,    3,    3,    3,    3,    3,    3,\n",
       "            3,    3,    3,    3,    3,    3,    3,    3,    3,    3,    3,    3,\n",
       "            3,    3,    3,    3,    3,    3,    3,    3,    3,    3,    3,    3,\n",
       "            3,    3,    3,    3,    3,    3,    3,    3,    3,    3,    3,    3,\n",
       "            3,    3,    1,   27, 2023,  155,   12,   53, 7277,    7, 1931, 2431,\n",
       "          565,   18,  884, 4126,   17,  120,  499,    4,   30, 1287,  114, 3673,\n",
       "         6126, 3325,   58,   71, 1117, 4954,   22,   71,  378,   14, 2475, 1026,\n",
       "           37,    4,   41,   30, 6765,  114,   31,   71,  516,  884,  441,    5,\n",
       "           20,  248,    9,  253,   26,    2]], dtype=torch.int32)"
      ]
     },
     "execution_count": 28,
     "metadata": {},
     "output_type": "execute_result"
    }
   ],
   "source": [
    "a"
   ]
  },
  {
   "cell_type": "code",
   "execution_count": 31,
   "metadata": {},
   "outputs": [
    {
     "data": {
      "text/plain": [
       "tensor([[[   3,    3,    3,  ...,    3,    3,    3],\n",
       "         [   3,    3,    3,  ...,    3,    3,    1],\n",
       "         [   3,    3,    3,  ...,    3,    1,  360],\n",
       "         ...,\n",
       "         [   3,    3,    1,  ...,  671,   50, 5277],\n",
       "         [   3,    1,  360,  ...,   50, 5277,    5],\n",
       "         [   1,  360,  232,  ..., 5277,    5,    2]],\n",
       "\n",
       "        [[   3,    3,    3,  ...,    3,    3,    3],\n",
       "         [   3,    3,    3,  ...,    3,    3,    3],\n",
       "         [   3,    3,    3,  ...,    3,    3,    3],\n",
       "         ...,\n",
       "         [   3,    3,    3,  ...,  248,    9,  253],\n",
       "         [   3,    3,    3,  ...,    9,  253,   26],\n",
       "         [   3,    3,    3,  ...,  253,   26,    2]]], dtype=torch.int32)"
      ]
     },
     "execution_count": 31,
     "metadata": {},
     "output_type": "execute_result"
    }
   ],
   "source": [
    "b = a.unfold(1, min(1024, int(a.shape[1] / 2)), 1)\n",
    "b"
   ]
  },
  {
   "cell_type": "code",
   "execution_count": 34,
   "metadata": {},
   "outputs": [
    {
     "data": {
      "text/plain": [
       "tensor([3, 3, 3, 3, 3, 3, 3, 3, 3, 3, 3, 3, 3, 3, 3, 3, 3, 3, 3, 3, 3, 3, 3, 3,\n",
       "        3, 3, 3, 3, 3, 3, 3, 3, 3, 3, 3, 3, 3, 3, 3, 3, 3, 3, 3, 3, 3, 3, 3, 3,\n",
       "        3, 3, 3, 3, 3, 3, 3, 3, 3, 3, 3, 3, 3, 3, 3], dtype=torch.int32)"
      ]
     },
     "execution_count": 34,
     "metadata": {},
     "output_type": "execute_result"
    }
   ],
   "source": [
    "b[0][0]"
   ]
  },
  {
   "cell_type": "code",
   "execution_count": 36,
   "metadata": {},
   "outputs": [
    {
     "data": {
      "text/plain": [
       "tensor([[  3,   3,   3,  ...,   3,   1, 360],\n",
       "        [  3,   3,   3,  ...,   1, 360, 232],\n",
       "        [  3,   3,   3,  ..., 360, 232, 141],\n",
       "        ...,\n",
       "        [  3,   3,   3,  ..., 248,   9, 253],\n",
       "        [  3,   3,   3,  ...,   9, 253,  26],\n",
       "        [  3,   3,   3,  ..., 253,  26,   2]], dtype=torch.int32)"
      ]
     },
     "execution_count": 36,
     "metadata": {},
     "output_type": "execute_result"
    }
   ],
   "source": [
    "b[(b != 3).logical_and(b != 1).any(axis=2)]"
   ]
  }
 ],
 "metadata": {
  "kernelspec": {
   "display_name": "Python 3 (ipykernel)",
   "language": "python",
   "name": "python3"
  },
  "language_info": {
   "codemirror_mode": {
    "name": "ipython",
    "version": 3
   },
   "file_extension": ".py",
   "mimetype": "text/x-python",
   "name": "python",
   "nbconvert_exporter": "python",
   "pygments_lexer": "ipython3",
   "version": "3.10.6"
  },
  "vscode": {
   "interpreter": {
    "hash": "cdd441ab56e000c5cdd95988c28580fb8a4796548cae7dec334c61097e187fe9"
   }
  }
 },
 "nbformat": 4,
 "nbformat_minor": 2
}
