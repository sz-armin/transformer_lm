{
 "cells": [
  {
   "cell_type": "code",
   "execution_count": 2,
   "metadata": {},
   "outputs": [
    {
     "name": "stderr",
     "output_type": "stream",
     "text": [
      "/home/is/armin-sa/miniconda3/envs/pytorch/lib/python3.10/site-packages/tqdm/auto.py:22: TqdmWarning: IProgress not found. Please update jupyter and ipywidgets. See https://ipywidgets.readthedocs.io/en/stable/user_install.html\n",
      "  from .autonotebook import tqdm as notebook_tqdm\n"
     ]
    }
   ],
   "source": [
    "import torch, sys, glob, os, math\n",
    "from pathlib import Path\n",
    "import numpy as np\n",
    "import torch.multiprocessing as mp\n",
    "mp.set_start_method('fork')\n",
    "from multiprocessing import Pool\n",
    "from copy import deepcopy\n"
   ]
  },
  {
   "cell_type": "markdown",
   "metadata": {},
   "source": [
    "## Binarize Training Data"
   ]
  },
  {
   "cell_type": "code",
   "execution_count": 3,
   "metadata": {},
   "outputs": [],
   "source": [
    "n = 16\n",
    "cwd = os.getcwd()\n",
    "prep_train_data_name = \"ru_small_id.txt\"\n"
   ]
  },
  {
   "cell_type": "code",
   "execution_count": 4,
   "metadata": {},
   "outputs": [
    {
     "name": "stdout",
     "output_type": "stream",
     "text": [
      "/project/cl-work2/armin-sa/resources/cc100-rus\n",
      "/home/is/armin-sa/Projects/lm\n"
     ]
    }
   ],
   "source": [
    "%cd data\n",
    "!split -n l/{n} {prep_train_data_name} chunk_\n",
    "%cd {cwd}"
   ]
  },
  {
   "cell_type": "code",
   "execution_count": 5,
   "metadata": {},
   "outputs": [],
   "source": [
    "def binarize_chunk(f_in_path):\n",
    "    with open(f_in_path, \"r\") as f_in, open(\n",
    "        \"data/prep_\" + Path(f_in_path).stem, \"wb\"\n",
    "    ) as f_out:\n",
    "        for line in f_in:\n",
    "            arr = np.fromstring(line, dtype=np.int32, sep=\" \")\n",
    "            f_out.write(\n",
    "                len(arr).to_bytes(2, byteorder=sys.byteorder, signed=False)\n",
    "                + arr.tobytes()\n",
    "            )\n"
   ]
  },
  {
   "cell_type": "code",
   "execution_count": 6,
   "metadata": {},
   "outputs": [],
   "source": [
    "with Pool(processes=n) as p:\n",
    "    p.map(binarize_chunk, glob.glob(\"data/chunk_*\"))\n"
   ]
  },
  {
   "cell_type": "code",
   "execution_count": 7,
   "metadata": {},
   "outputs": [
    {
     "name": "stdout",
     "output_type": "stream",
     "text": [
      "/project/cl-work2/armin-sa/resources/cc100-rus\n",
      "/home/is/armin-sa/Projects/lm\n"
     ]
    }
   ],
   "source": [
    "%cd data\n",
    "!rm chunk_*\n",
    "!cat prep_chunk_* > ru_small.bin\n",
    "!rm prep_chunk_*\n",
    "%cd {cwd}"
   ]
  },
  {
   "cell_type": "code",
   "execution_count": 8,
   "metadata": {},
   "outputs": [],
   "source": [
    "sample_locs = [0]\n",
    "with open(\"data/ru_small_id.txt\", \"r\") as f_in:\n",
    "    line = f_in.readline()\n",
    "    while line:\n",
    "        f_in.tell() #returns the location of the next line\n",
    "        line = f_in.readline()\n",
    "        sample_locs.append(f_in.tell())\n",
    "\n",
    "sample_locs = np.array(sample_locs[:-1])\n"
   ]
  },
  {
   "cell_type": "code",
   "execution_count": 9,
   "metadata": {},
   "outputs": [
    {
     "data": {
      "text/plain": [
       "'1 442 85 4 66 1056 13 55 307 24 19847 52 28220 197 40 2984 6863 10600 7469 369 4 46 413 59 2984 7 496 5367 560 24 1591 1076 560 161 6 543 1952 11271 520 7469 369 5 2\\n'"
      ]
     },
     "execution_count": 9,
     "metadata": {},
     "output_type": "execute_result"
    }
   ],
   "source": [
    "with open(\"data/ru_small_id.txt\", \"r\") as f:\n",
    "    f.seek(sample_locs[2])\n",
    "    l = f.readline()\n",
    "l\n"
   ]
  },
  {
   "cell_type": "code",
   "execution_count": 10,
   "metadata": {},
   "outputs": [],
   "source": [
    "# def _gen():\n",
    "#     with open(\"data/ru_small.bin\", \"rb\") as f_in:\n",
    "#         while count := int.from_bytes(f_in.read(2), byteorder=sys.byteorder, signed=False):\n",
    "#             arr = torch.frombuffer(f_in.read(count * 4), count=count, dtype=torch.int)\n",
    "#             yield arr\n"
   ]
  },
  {
   "cell_type": "code",
   "execution_count": 11,
   "metadata": {},
   "outputs": [],
   "source": [
    "# a =_gen()\n",
    "# next(a)\n"
   ]
  },
  {
   "cell_type": "code",
   "execution_count": 16,
   "metadata": {},
   "outputs": [],
   "source": [
    "import linecache\n",
    "class CC100DataSet(torch.utils.data.Dataset):\n",
    "    def __init__(self, file_path, num_workers):\n",
    "        super().__init__()\n",
    "        self.path=file_path\n",
    "        self.sample_locs = deepcopy(sample_locs)\n",
    "        self.file_handles = [open(file_path, \"r\") for _ in range(num_workers)]\n",
    "        self.file_handles.append(open(file_path, \"r\"))\n",
    "\n",
    "    def __len__(self):\n",
    "        return len(self.sample_locs)\n",
    "\n",
    "    def __getitem__(self, idx):\n",
    "        worker_info = torch.utils.data.get_worker_info()\n",
    "        if worker_info is None:\n",
    "            worker_id = 0\n",
    "        else:\n",
    "            worker_id = worker_info.id\n",
    "        # self.file_handles[worker_id].seek(self.sample_locs[idx])\n",
    "        \n",
    "        line = linecache.getline(self.path, idx)\n",
    "        arr = np.fromstring(line, dtype=np.int32, sep=\" \")\n",
    "        # if len(line) > 0:\n",
    "            # arr = torch.tensor(list(map(int, line.split(' '))), dtype=torch.int16)\n",
    "            # x = torch.arange(200)\n",
    "            # return arr\n",
    "        return np.copy(arr)\n",
    "        # return torch.arange(200)\n",
    "\n",
    "def collate_wrapper(batch):\n",
    "    return batch\n",
    "    # return list(map(lambda x: torch.tensor(list(map(int, x.split(' '))), dtype=torch.int16), batch))\n",
    "    # return torch.utils.data.default_convert(batch)\n",
    "\n",
    "\n",
    "num_workers = 4\n",
    "ds = CC100DataSet(\"data/ru_small_id.txt\", num_workers)\n",
    "data_loader = torch.utils.data.DataLoader(\n",
    "    ds,\n",
    "    num_workers=num_workers,\n",
    "    shuffle=False,\n",
    "    batch_size=64,\n",
    "    collate_fn=collate_wrapper,\n",
    "    # prefetch_factor=1,\n",
    "    # persistent_workers=True,\n",
    "    # pin_memory=True,\n",
    ")\n"
   ]
  },
  {
   "cell_type": "code",
   "execution_count": 17,
   "metadata": {},
   "outputs": [],
   "source": [
    "# x=iter(data_loader)\n",
    "# print(next(x))\n",
    "# x=iter(data_loader)\n",
    "# print(next(x))\n",
    "import time\n",
    "c = 0\n",
    "# l = [0]\n",
    "for _ in data_loader:\n",
    "    # l[0]=_\n",
    "    c+=1\n",
    "    # time.sleep(0.1)"
   ]
  },
  {
   "cell_type": "code",
   "execution_count": 18,
   "metadata": {},
   "outputs": [],
   "source": [
    "# with open(\"data/ru_small.bin\", \"rb\") as f:\n",
    "#     f.seek(sample_locs[0])\n",
    "#     count = int.from_bytes(f.read(2), byteorder=sys.byteorder, signed=False)\n",
    "#     arr = np.fromstring(f.read(count * 4), count=count, dtype=np.int32)\n",
    "# arr"
   ]
  },
  {
   "cell_type": "code",
   "execution_count": 19,
   "metadata": {},
   "outputs": [
    {
     "name": "stdout",
     "output_type": "stream",
     "text": [
      "15182\n"
     ]
    }
   ],
   "source": [
    "print(c)\n"
   ]
  },
  {
   "cell_type": "code",
   "execution_count": 20,
   "metadata": {},
   "outputs": [],
   "source": [
    "def run():\n",
    "    pass"
   ]
  },
  {
   "cell_type": "code",
   "execution_count": 22,
   "metadata": {},
   "outputs": [
    {
     "name": "stdout",
     "output_type": "stream",
     "text": [
      " "
     ]
    },
    {
     "name": "stdout",
     "output_type": "stream",
     "text": [
      "         4 function calls in 0.000 seconds\n",
      "\n",
      "   Ordered by: internal time\n",
      "\n",
      "   ncalls  tottime  percall  cumtime  percall filename:lineno(function)\n",
      "        1    0.000    0.000    0.000    0.000 {built-in method builtins.exec}\n",
      "        1    0.000    0.000    0.000    0.000 <string>:1(<module>)\n",
      "        1    0.000    0.000    0.000    0.000 723293958.py:1(run)\n",
      "        1    0.000    0.000    0.000    0.000 {method 'disable' of '_lsprof.Profiler' objects}"
     ]
    }
   ],
   "source": [
    "%prun  run()"
   ]
  }
 ],
 "metadata": {
  "kernelspec": {
   "display_name": "Python 3.10.5 ('pytorch')",
   "language": "python",
   "name": "python3"
  },
  "language_info": {
   "codemirror_mode": {
    "name": "ipython",
    "version": 3
   },
   "file_extension": ".py",
   "mimetype": "text/x-python",
   "name": "python",
   "nbconvert_exporter": "python",
   "pygments_lexer": "ipython3",
   "version": "3.10.5"
  },
  "vscode": {
   "interpreter": {
    "hash": "cdd441ab56e000c5cdd95988c28580fb8a4796548cae7dec334c61097e187fe9"
   }
  }
 },
 "nbformat": 4,
 "nbformat_minor": 2
}
