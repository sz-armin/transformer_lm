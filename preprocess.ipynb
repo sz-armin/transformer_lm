{
 "cells": [
  {
   "cell_type": "code",
   "execution_count": 2,
   "metadata": {},
   "outputs": [],
   "source": [
    "import sys, glob, os\n",
    "from pathlib import Path\n",
    "import numpy as np\n",
    "from multiprocessing import Pool"
   ]
  },
  {
   "cell_type": "markdown",
   "metadata": {},
   "source": [
    "## Binarize Training Data"
   ]
  },
  {
   "cell_type": "code",
   "execution_count": 37,
   "metadata": {},
   "outputs": [],
   "source": [
    "n = 32\n",
    "cwd = os.getcwd()\n",
    "prep_train_data_name = \"rel_ru_id.txt\"\n"
   ]
  },
  {
   "cell_type": "code",
   "execution_count": 38,
   "metadata": {},
   "outputs": [
    {
     "name": "stdout",
     "output_type": "stream",
     "text": [
      "/project/cl-work2/armin-sa/resources/cc100-rus\n",
      "/home/is/armin-sa/Projects/lm\n"
     ]
    }
   ],
   "source": [
    "%cd data\n",
    "!split -n l/{n} {prep_train_data_name} chunk_\n",
    "%cd {cwd}"
   ]
  },
  {
   "cell_type": "code",
   "execution_count": 39,
   "metadata": {},
   "outputs": [],
   "source": [
    "def binarize_chunk(f_in_path):\n",
    "    with open(f_in_path, \"r\") as f_in, open(\n",
    "        \"data/prep_\" + Path(f_in_path).stem, \"wb\"\n",
    "    ) as f_out:\n",
    "        for line in f_in:\n",
    "            arr = np.fromstring(line, dtype=np.int32, sep=\" \")\n",
    "            f_out.write(\n",
    "                len(arr).to_bytes(2, byteorder=sys.byteorder, signed=False)\n",
    "                + arr.tobytes()\n",
    "            )\n"
   ]
  },
  {
   "cell_type": "code",
   "execution_count": 40,
   "metadata": {},
   "outputs": [],
   "source": [
    "with Pool(processes=n) as p:\n",
    "    p.map(binarize_chunk, glob.glob(\"data/chunk_*\"))\n"
   ]
  },
  {
   "cell_type": "code",
   "execution_count": 41,
   "metadata": {},
   "outputs": [
    {
     "name": "stdout",
     "output_type": "stream",
     "text": [
      "/project/cl-work2/armin-sa/resources/cc100-rus\n",
      "/home/is/armin-sa/Projects/lm\n"
     ]
    }
   ],
   "source": [
    "%cd data\n",
    "!rm chunk_*\n",
    "!cat prep_chunk_* > ru_small.bin\n",
    "!rm prep_chunk_*\n",
    "%cd {cwd}"
   ]
  },
  {
   "cell_type": "code",
   "execution_count": 42,
   "metadata": {},
   "outputs": [],
   "source": [
    "sample_locs = [0]\n",
    "with open(\"data/ru_small.bin\", \"rb\") as f_in:\n",
    "    while count := int.from_bytes(f_in.read(2), byteorder=sys.byteorder, signed=False):\n",
    "        arr = np.frombuffer(f_in.read(count * 4), count=count, dtype=np.int32)\n",
    "        sample_locs.append(f_in.tell())\n",
    "\n",
    "sample_locs = np.array(sample_locs[:-1])\n",
    "np.save(\"data/sample_locs.npy\", sample_locs)"
   ]
  },
  {
   "cell_type": "code",
   "execution_count": 3,
   "metadata": {},
   "outputs": [
    {
     "ename": "AttributeError",
     "evalue": "'numpy.ndarray' object has no attribute 'save'",
     "output_type": "error",
     "traceback": [
      "\u001b[0;31m---------------------------------------------------------------------------\u001b[0m",
      "\u001b[0;31mAttributeError\u001b[0m                            Traceback (most recent call last)",
      "\u001b[1;32m/home/is/armin-sa/Projects/lm/preprocess.ipynb Cell 9\u001b[0m in \u001b[0;36m<cell line: 4>\u001b[0;34m()\u001b[0m\n\u001b[1;32m      <a href='vscode-notebook-cell://ssh-remote%2Blang01/home/is/armin-sa/Projects/lm/preprocess.ipynb#X11sdnNjb2RlLXJlbW90ZQ%3D%3D?line=0'>1</a>\u001b[0m \u001b[39m############\u001b[39;00m\n\u001b[1;32m      <a href='vscode-notebook-cell://ssh-remote%2Blang01/home/is/armin-sa/Projects/lm/preprocess.ipynb#X11sdnNjb2RlLXJlbW90ZQ%3D%3D?line=2'>3</a>\u001b[0m arr \u001b[39m=\u001b[39m np\u001b[39m.\u001b[39mfromfile(\u001b[39m\"\u001b[39m\u001b[39m/home/is/armin-sa/Projects/lm/data/ru_small_id.txt\u001b[39m\u001b[39m\"\u001b[39m, sep\u001b[39m=\u001b[39m\u001b[39m\"\u001b[39m\u001b[39m \u001b[39m\u001b[39m\"\u001b[39m, dtype\u001b[39m=\u001b[39mnp\u001b[39m.\u001b[39mint64)\n\u001b[0;32m----> <a href='vscode-notebook-cell://ssh-remote%2Blang01/home/is/armin-sa/Projects/lm/preprocess.ipynb#X11sdnNjb2RlLXJlbW90ZQ%3D%3D?line=3'>4</a>\u001b[0m arr\u001b[39m.\u001b[39;49msave(\u001b[39m\"\u001b[39m\u001b[39m/home/is/armin-sa/Projects/lm/data/ru_small_id.bin\u001b[39m\u001b[39m\"\u001b[39m)\n",
      "\u001b[0;31mAttributeError\u001b[0m: 'numpy.ndarray' object has no attribute 'save'"
     ]
    }
   ],
   "source": [
    "############\n",
    "\n",
    "arr = np.fromfile(\"/home/is/armin-sa/Projects/lm/data/ru_small_id.txt\", sep=\" \", dtype=np.int64)\n"
   ]
  },
  {
   "cell_type": "code",
   "execution_count": 4,
   "metadata": {},
   "outputs": [],
   "source": [
    "np.save(\"/home/is/armin-sa/Projects/lm/data/ru_small_id.npy\", arr)"
   ]
  },
  {
   "cell_type": "code",
   "execution_count": 5,
   "metadata": {},
   "outputs": [],
   "source": [
    "arr = np.load(\"/home/is/armin-sa/Projects/lm/data/ru_small_id.npy\")\n",
    "del(arr)"
   ]
  }
 ],
 "metadata": {
  "kernelspec": {
   "display_name": "Python 3 (ipykernel)",
   "language": "python",
   "name": "python3"
  },
  "language_info": {
   "codemirror_mode": {
    "name": "ipython",
    "version": 3
   },
   "file_extension": ".py",
   "mimetype": "text/x-python",
   "name": "python",
   "nbconvert_exporter": "python",
   "pygments_lexer": "ipython3",
   "version": "3.10.6"
  },
  "vscode": {
   "interpreter": {
    "hash": "cdd441ab56e000c5cdd95988c28580fb8a4796548cae7dec334c61097e187fe9"
   }
  }
 },
 "nbformat": 4,
 "nbformat_minor": 2
}
