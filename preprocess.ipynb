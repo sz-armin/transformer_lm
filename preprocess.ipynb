{
 "cells": [
  {
   "cell_type": "code",
   "execution_count": 1,
   "metadata": {},
   "outputs": [],
   "source": [
    "import sys, glob, os\n",
    "from pathlib import Path\n",
    "import numpy as np\n",
    "from multiprocessing import Pool"
   ]
  },
  {
   "cell_type": "markdown",
   "metadata": {},
   "source": [
    "## Binarize Training Data"
   ]
  },
  {
   "cell_type": "code",
   "execution_count": 37,
   "metadata": {},
   "outputs": [],
   "source": [
    "n = 32\n",
    "cwd = os.getcwd()\n",
    "prep_train_data_name = \"rel_ru_id.txt\"\n"
   ]
  },
  {
   "cell_type": "code",
   "execution_count": 38,
   "metadata": {},
   "outputs": [
    {
     "name": "stdout",
     "output_type": "stream",
     "text": [
      "/project/cl-work2/armin-sa/resources/cc100-rus\n",
      "/home/is/armin-sa/Projects/lm\n"
     ]
    }
   ],
   "source": [
    "%cd data\n",
    "!split -n l/{n} {prep_train_data_name} chunk_\n",
    "%cd {cwd}"
   ]
  },
  {
   "cell_type": "code",
   "execution_count": 39,
   "metadata": {},
   "outputs": [],
   "source": [
    "def binarize_chunk(f_in_path):\n",
    "    with open(f_in_path, \"r\") as f_in, open(\n",
    "        \"data/prep_\" + Path(f_in_path).stem, \"wb\"\n",
    "    ) as f_out:\n",
    "        for line in f_in:\n",
    "            arr = np.fromstring(line, dtype=np.int32, sep=\" \")\n",
    "            f_out.write(\n",
    "                len(arr).to_bytes(2, byteorder=sys.byteorder, signed=False)\n",
    "                + arr.tobytes()\n",
    "            )\n"
   ]
  },
  {
   "cell_type": "code",
   "execution_count": 40,
   "metadata": {},
   "outputs": [],
   "source": [
    "with Pool(processes=n) as p:\n",
    "    p.map(binarize_chunk, glob.glob(\"data/chunk_*\"))\n"
   ]
  },
  {
   "cell_type": "code",
   "execution_count": 41,
   "metadata": {},
   "outputs": [
    {
     "name": "stdout",
     "output_type": "stream",
     "text": [
      "/project/cl-work2/armin-sa/resources/cc100-rus\n",
      "/home/is/armin-sa/Projects/lm\n"
     ]
    }
   ],
   "source": [
    "%cd data\n",
    "!rm chunk_*\n",
    "!cat prep_chunk_* > ru_small.bin\n",
    "!rm prep_chunk_*\n",
    "%cd {cwd}"
   ]
  },
  {
   "cell_type": "code",
   "execution_count": 42,
   "metadata": {},
   "outputs": [],
   "source": [
    "sample_locs = [0]\n",
    "with open(\"data/ru_small.bin\", \"rb\") as f_in:\n",
    "    while count := int.from_bytes(f_in.read(2), byteorder=sys.byteorder, signed=False):\n",
    "        arr = np.frombuffer(f_in.read(count * 4), count=count, dtype=np.int32)\n",
    "        sample_locs.append(f_in.tell())\n",
    "\n",
    "sample_locs = np.array(sample_locs[:-1])\n",
    "np.save(\"data/sample_locs.npy\", sample_locs)"
   ]
  },
  {
   "cell_type": "code",
   "execution_count": 2,
   "metadata": {},
   "outputs": [],
   "source": [
    "############\n",
    "\n",
    "arr = np.fromfile(\"/home/is/armin-sa/Projects/lm/data/ru_small_id-3.txt\", sep=\" \", dtype=np.int64)\n"
   ]
  },
  {
   "cell_type": "code",
   "execution_count": null,
   "metadata": {},
   "outputs": [],
   "source": [
    "np.save(\"/home/is/armin-sa/Projects/lm/data/ru_small_id-3.npy\", arr)"
   ]
  },
  {
   "cell_type": "code",
   "execution_count": 5,
   "metadata": {},
   "outputs": [],
   "source": [
    "arr = np.load(\"/home/is/armin-sa/Projects/lm/data/ru_small_id.npy\")\n",
    "del(arr)"
   ]
  }
 ],
 "metadata": {
  "kernelspec": {
   "display_name": "Python 3 (ipykernel)",
   "language": "python",
   "name": "python3"
  },
  "language_info": {
   "codemirror_mode": {
    "name": "ipython",
    "version": 3
   },
   "file_extension": ".py",
   "mimetype": "text/x-python",
   "name": "python",
   "nbconvert_exporter": "python",
   "pygments_lexer": "ipython3",
   "version": "3.10.6"
  },
  "vscode": {
   "interpreter": {
    "hash": "cdd441ab56e000c5cdd95988c28580fb8a4796548cae7dec334c61097e187fe9"
   }
  }
 },
 "nbformat": 4,
 "nbformat_minor": 2
}
