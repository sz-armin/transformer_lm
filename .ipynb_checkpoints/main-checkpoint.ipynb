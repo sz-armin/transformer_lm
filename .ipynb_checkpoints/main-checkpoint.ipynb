{
 "cells": [
  {
   "cell_type": "code",
   "execution_count": 1,
   "metadata": {},
   "outputs": [
    {
     "name": "stderr",
     "output_type": "stream",
     "text": [
      "/home/is/armin-sa/miniconda3/envs/pytorch/lib/python3.10/site-packages/tqdm/auto.py:22: TqdmWarning: IProgress not found. Please update jupyter and ipywidgets. See https://ipywidgets.readthedocs.io/en/stable/user_install.html\n",
      "  from .autonotebook import tqdm as notebook_tqdm\n"
     ]
    }
   ],
   "source": [
    "import torch, sys, glob, os, math\n",
    "from pathlib import Path\n",
    "import numpy as np\n",
    "from multiprocessing import Pool\n",
    "from copy import deepcopy\n"
   ]
  },
  {
   "cell_type": "markdown",
   "metadata": {},
   "source": [
    "## Binarize Training Data"
   ]
  },
  {
   "cell_type": "code",
   "execution_count": 2,
   "metadata": {},
   "outputs": [],
   "source": [
    "n = 16\n",
    "cwd = os.getcwd()\n",
    "prep_train_data_name = \"ru_small_id.txt\"\n"
   ]
  },
  {
   "cell_type": "code",
   "execution_count": 3,
   "metadata": {},
   "outputs": [
    {
     "name": "stdout",
     "output_type": "stream",
     "text": [
      "/project/cl-work2/armin-sa/resources/cc100-rus\n",
      "/home/is/armin-sa/Projects/lm\n"
     ]
    }
   ],
   "source": [
    "%cd data\n",
    "!split -n l/{n} {prep_train_data_name} chunk_\n",
    "%cd {cwd}"
   ]
  },
  {
   "cell_type": "code",
   "execution_count": 4,
   "metadata": {},
   "outputs": [],
   "source": [
    "def binarize_chunk(f_in_path):\n",
    "    with open(f_in_path, \"r\") as f_in, open(\n",
    "        \"data/prep_\" + Path(f_in_path).stem, \"wb\"\n",
    "    ) as f_out:\n",
    "        for line in f_in:\n",
    "            arr = np.fromstring(line, dtype=np.int32, sep=\" \")\n",
    "            f_out.write(\n",
    "                len(arr).to_bytes(2, byteorder=sys.byteorder, signed=False)\n",
    "                + arr.tobytes()\n",
    "            )\n"
   ]
  },
  {
   "cell_type": "code",
   "execution_count": 5,
   "metadata": {},
   "outputs": [],
   "source": [
    "with Pool(processes=n) as p:\n",
    "    p.map(binarize_chunk, glob.glob(\"data/chunk_*\"))\n"
   ]
  },
  {
   "cell_type": "code",
   "execution_count": 6,
   "metadata": {},
   "outputs": [
    {
     "name": "stdout",
     "output_type": "stream",
     "text": [
      "/project/cl-work2/armin-sa/resources/cc100-rus\n",
      "/home/is/armin-sa/Projects/lm\n"
     ]
    }
   ],
   "source": [
    "%cd data\n",
    "!rm chunk_*\n",
    "!cat prep_chunk_* > ru_small.bin\n",
    "!rm prep_chunk_*\n",
    "%cd {cwd}"
   ]
  },
  {
   "cell_type": "code",
   "execution_count": 7,
   "metadata": {},
   "outputs": [],
   "source": [
    "sample_locs = [0]\n",
    "with open(\"data/ru_small.bin\", \"rb\") as f_in:\n",
    "    while count := int.from_bytes(f_in.read(2), byteorder=sys.byteorder, signed=False):\n",
    "        arr = np.frombuffer(f_in.read(count * 4), count=count, dtype=np.int32)\n",
    "        sample_locs.append(f_in.tell())\n",
    "\n",
    "sample_locs = np.array(sample_locs[:-1])\n"
   ]
  },
  {
   "cell_type": "code",
   "execution_count": 8,
   "metadata": {},
   "outputs": [],
   "source": [
    "with open(\"data/ru_small.bin\", \"rb\") as f:\n",
    "    f.seek(sample_locs[2])\n",
    "    count = int.from_bytes(f.read(2), byteorder=sys.byteorder, signed=False)\n",
    "    arr = np.frombuffer(f.read(count * 4), count=count, dtype=np.int32)\n"
   ]
  },
  {
   "cell_type": "code",
   "execution_count": 9,
   "metadata": {},
   "outputs": [],
   "source": [
    "# def _gen():\n",
    "#     with open(\"data/ru_small.bin\", \"rb\") as f_in:\n",
    "#         while count := int.from_bytes(f_in.read(2), byteorder=sys.byteorder, signed=False):\n",
    "#             arr = torch.frombuffer(f_in.read(count * 4), count=count, dtype=torch.int)\n",
    "#             yield arr\n"
   ]
  },
  {
   "cell_type": "code",
   "execution_count": 10,
   "metadata": {},
   "outputs": [],
   "source": [
    "# a =_gen()\n",
    "# next(a)\n"
   ]
  },
  {
   "cell_type": "code",
   "execution_count": 11,
   "metadata": {},
   "outputs": [
    {
     "ename": "",
     "evalue": "",
     "output_type": "error",
     "traceback": [
      "\u001b[1;31mCanceled future for execute_request message before replies were done"
     ]
    },
    {
     "ename": "",
     "evalue": "",
     "output_type": "error",
     "traceback": [
      "The Kernel crashed while executing code in the the current cell or a previous cell. Please review the code in the cell(s) to identify a possible cause of the failure. Click <a href='https://aka.ms/vscodeJupyterKernelCrash'>here</a> for more info. View Jupyter <a href='command:jupyter.viewOutput'>log</a> for further details."
     ]
    }
   ],
   "source": [
    "class CC100DataSet(torch.utils.data.Dataset):\n",
    "    def __init__(self, file_path, sample_locs) :\n",
    "        super().__init__()\n",
    "        # self.sample_locs = deepcopy(sample_locs)\n",
    "        self.file = open(file_path, \"rb\")\n",
    "\n",
    "    def __len__(self):\n",
    "        return len(self/sample_locs)\n",
    "\n",
    "    def __getitem__(self, idx):\n",
    "        self.file.seek(sample_locs[idx])\n",
    "        count = int.from_bytes(self.file.read(2), byteorder=sys.byteorder, signed=False)\n",
    "        arr = torch.frombuffer(self.file.read(count * 4), count=count, dtype=torch.int32)\n",
    "        return arr\n",
    "\n",
    "def collate_wrapper(batch):\n",
    "    return batch\n",
    "\n",
    "\n",
    "ds = CC100DataSet(\"data/ru_small.bin\", sample_locs)\n",
    "data_loader = torch.utils.data.DataLoader(ds, num_workers=0, batch_size=1, collate_fn=collate_wrapper)\n",
    "\n",
    "c=0\n",
    "for _ in data_loader:\n",
    "    c+=1\n"
   ]
  },
  {
   "cell_type": "code",
   "execution_count": null,
   "metadata": {},
   "outputs": [
    {
     "ename": "NameError",
     "evalue": "name 'c' is not defined",
     "output_type": "error",
     "traceback": [
      "\u001b[0;31m---------------------------------------------------------------------------\u001b[0m",
      "\u001b[0;31mNameError\u001b[0m                                 Traceback (most recent call last)",
      "\u001b[1;32m/home/is/armin-sa/Projects/lm/main.ipynb Cell 13\u001b[0m in \u001b[0;36m<cell line: 1>\u001b[0;34m()\u001b[0m\n\u001b[0;32m----> <a href='vscode-notebook-cell://ssh-remote%2Bahcclcsb02/home/is/armin-sa/Projects/lm/main.ipynb#X15sdnNjb2RlLXJlbW90ZQ%3D%3D?line=0'>1</a>\u001b[0m \u001b[39mprint\u001b[39m(c)\n",
      "\u001b[0;31mNameError\u001b[0m: name 'c' is not defined"
     ]
    }
   ],
   "source": [
    "print(c)"
   ]
  }
 ],
 "metadata": {
  "kernelspec": {
   "display_name": "Python 3 (ipykernel)",
   "language": "python",
   "name": "python3"
  },
  "language_info": {
   "codemirror_mode": {
    "name": "ipython",
    "version": 3
   },
   "file_extension": ".py",
   "mimetype": "text/x-python",
   "name": "python",
   "nbconvert_exporter": "python",
   "pygments_lexer": "ipython3",
   "version": "3.10.5"
  },
  "vscode": {
   "interpreter": {
    "hash": "cdd441ab56e000c5cdd95988c28580fb8a4796548cae7dec334c61097e187fe9"
   }
  }
 },
 "nbformat": 4,
 "nbformat_minor": 2
}
